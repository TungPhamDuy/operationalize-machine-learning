{
  "cells": [
    {
      "cell_type": "markdown",
      "source": [
        "Copyright (c) Microsoft Corporation. All rights reserved.  \n",
        "Licensed under the MIT License."
      ],
      "metadata": {}
    },
    {
      "cell_type": "markdown",
      "source": [
        "![Impressions](https://PixelServer20190423114238.azurewebsites.net/api/impressions/NotebookVM/how-to-use-azureml/machine-learning-pipelines/intro-to-pipelines/aml-pipelines-with-automated-machine-learning-step.png)"
      ],
      "metadata": {}
    },
    {
      "cell_type": "markdown",
      "source": [
        "# Azure Machine Learning Pipeline with AutoMLStep (Udacity Course 2)\n",
        "This notebook demonstrates the use of AutoMLStep in Azure Machine Learning Pipeline."
      ],
      "metadata": {}
    },
    {
      "cell_type": "markdown",
      "source": [
        "## Introduction\n",
        "In this example we showcase how you can use AzureML Dataset to load data for AutoML via AML Pipeline. \n",
        "\n",
        "If you are using an Azure Machine Learning Notebook VM, you are all set. Otherwise, make sure you have executed the [configuration](https://aka.ms/pl-config) before running this notebook.\n",
        "\n",
        "In this notebook you will learn how to:\n",
        "1. Create an `Experiment` in an existing `Workspace`.\n",
        "2. Create or Attach existing AmlCompute to a workspace.\n",
        "3. Define data loading in a `TabularDataset`.\n",
        "4. Configure AutoML using `AutoMLConfig`.\n",
        "5. Use AutoMLStep\n",
        "6. Train the model using AmlCompute\n",
        "7. Explore the results.\n",
        "8. Test the best fitted model."
      ],
      "metadata": {}
    },
    {
      "cell_type": "markdown",
      "source": [
        "## Azure Machine Learning and Pipeline SDK-specific imports"
      ],
      "metadata": {}
    },
    {
      "cell_type": "code",
      "source": [
        "pip install matplotlib -q"
      ],
      "outputs": [
        {
          "output_type": "stream",
          "name": "stdout",
          "text": "Note: you may need to restart the kernel to use updated packages.\n"
        }
      ],
      "execution_count": 1,
      "metadata": {
        "jupyter": {
          "source_hidden": false,
          "outputs_hidden": false
        },
        "nteract": {
          "transient": {
            "deleting": false
          }
        },
        "gather": {
          "logged": 1730651743084
        }
      }
    },
    {
      "cell_type": "code",
      "source": [
        "pip install pandas numpy scikit-learn"
      ],
      "outputs": [
        {
          "output_type": "stream",
          "name": "stdout",
          "text": "Requirement already satisfied: pandas in /anaconda/envs/jupyter_env/lib/python3.10/site-packages (1.5.3)\nRequirement already satisfied: numpy in /anaconda/envs/jupyter_env/lib/python3.10/site-packages (1.23.5)\nRequirement already satisfied: scikit-learn in /anaconda/envs/jupyter_env/lib/python3.10/site-packages (1.5.1)\nRequirement already satisfied: python-dateutil>=2.8.1 in /anaconda/envs/jupyter_env/lib/python3.10/site-packages (from pandas) (2.9.0)\nRequirement already satisfied: pytz>=2020.1 in /anaconda/envs/jupyter_env/lib/python3.10/site-packages (from pandas) (2024.2)\nRequirement already satisfied: scipy>=1.6.0 in /anaconda/envs/jupyter_env/lib/python3.10/site-packages (from scikit-learn) (1.10.1)\nRequirement already satisfied: joblib>=1.2.0 in /anaconda/envs/jupyter_env/lib/python3.10/site-packages (from scikit-learn) (1.2.0)\nRequirement already satisfied: threadpoolctl>=3.1.0 in /anaconda/envs/jupyter_env/lib/python3.10/site-packages (from scikit-learn) (3.5.0)\nRequirement already satisfied: six>=1.5 in /anaconda/envs/jupyter_env/lib/python3.10/site-packages (from python-dateutil>=2.8.1->pandas) (1.16.0)\nNote: you may need to restart the kernel to use updated packages.\n"
        }
      ],
      "execution_count": 2,
      "metadata": {
        "jupyter": {
          "source_hidden": false,
          "outputs_hidden": false
        },
        "nteract": {
          "transient": {
            "deleting": false
          }
        },
        "gather": {
          "logged": 1730651744897
        }
      }
    },
    {
      "cell_type": "code",
      "source": [
        "pip install numpy==1.24.3 pandas==1.5.3\n"
      ],
      "outputs": [
        {
          "output_type": "stream",
          "name": "stdout",
          "text": "Collecting numpy==1.24.3\n  Using cached numpy-1.24.3-cp310-cp310-manylinux_2_17_x86_64.manylinux2014_x86_64.whl.metadata (5.6 kB)\nRequirement already satisfied: pandas==1.5.3 in /anaconda/envs/jupyter_env/lib/python3.10/site-packages (1.5.3)\nRequirement already satisfied: python-dateutil>=2.8.1 in /anaconda/envs/jupyter_env/lib/python3.10/site-packages (from pandas==1.5.3) (2.9.0)\nRequirement already satisfied: pytz>=2020.1 in /anaconda/envs/jupyter_env/lib/python3.10/site-packages (from pandas==1.5.3) (2024.2)\nRequirement already satisfied: six>=1.5 in /anaconda/envs/jupyter_env/lib/python3.10/site-packages (from python-dateutil>=2.8.1->pandas==1.5.3) (1.16.0)\nUsing cached numpy-1.24.3-cp310-cp310-manylinux_2_17_x86_64.manylinux2014_x86_64.whl (17.3 MB)\nInstalling collected packages: numpy\n  Attempting uninstall: numpy\n    Found existing installation: numpy 1.23.5\n    Uninstalling numpy-1.23.5:\n      Successfully uninstalled numpy-1.23.5\n\u001b[31mERROR: pip's dependency resolver does not currently take into account all the packages that are installed. This behaviour is the source of the following dependency conflicts.\nazureml-automl-runtime 1.58.0 requires numpy<=1.23.5,>=1.16.0; python_version >= \"3.8\", but you have numpy 1.24.3 which is incompatible.\nazureml-dataset-runtime 1.58.0 requires numpy!=1.19.3,<1.24; sys_platform == \"linux\", but you have numpy 1.24.3 which is incompatible.\nazureml-interpret 1.58.0 requires numba<=0.56.4; python_version < \"3.11\", but you have numba 0.60.0 which is incompatible.\nazureml-interpret 1.58.0 requires numpy<=1.23.5; python_version >= \"3.8\", but you have numpy 1.24.3 which is incompatible.\nazureml-train-automl-runtime 1.58.0 requires numpy<=1.23.5,>=1.16.0; python_version >= \"3.8\", but you have numpy 1.24.3 which is incompatible.\nazureml-training-tabular 1.58.0 requires numpy<=1.23.5,>=1.16.0; python_version >= \"3.8\", but you have numpy 1.24.3 which is incompatible.\nresponsibleai 0.36.0 requires numba<=0.58.1, but you have numba 0.60.0 which is incompatible.\nscikit-image 0.24.0 requires networkx>=2.8, but you have networkx 2.5 which is incompatible.\u001b[0m\u001b[31m\n\u001b[0mSuccessfully installed numpy-1.24.3\nNote: you may need to restart the kernel to use updated packages.\n"
        }
      ],
      "execution_count": 3,
      "metadata": {
        "jupyter": {
          "source_hidden": false,
          "outputs_hidden": false
        },
        "nteract": {
          "transient": {
            "deleting": false
          }
        },
        "gather": {
          "logged": 1730651750981
        }
      }
    },
    {
      "cell_type": "code",
      "source": [
        "pip install azureml-sdk[automl,notebooks,explain,train]"
      ],
      "outputs": [
        {
          "output_type": "stream",
          "name": "stdout",
          "text": "Requirement already satisfied: azureml-sdk[automl,explain,notebooks,train] in /anaconda/envs/jupyter_env/lib/python3.10/site-packages (1.58.0)\n\u001b[33mWARNING: azureml-sdk 1.58.0 does not provide the extra 'train'\u001b[0m\u001b[33m\n\u001b[0mRequirement already satisfied: azureml-core~=1.58.0 in /anaconda/envs/jupyter_env/lib/python3.10/site-packages (from azureml-sdk[automl,explain,notebooks,train]) (1.58.0)\nRequirement already satisfied: azureml-dataset-runtime~=1.58.0 in /anaconda/envs/jupyter_env/lib/python3.10/site-packages (from azureml-dataset-runtime[fuse]~=1.58.0->azureml-sdk[automl,explain,notebooks,train]) (1.58.0)\nRequirement already satisfied: azureml-train-core~=1.58.0 in /anaconda/envs/jupyter_env/lib/python3.10/site-packages (from azureml-sdk[automl,explain,notebooks,train]) (1.58.0)\nRequirement already satisfied: azureml-train-automl-client~=1.58.0 in /anaconda/envs/jupyter_env/lib/python3.10/site-packages (from azureml-sdk[automl,explain,notebooks,train]) (1.58.0)\nRequirement already satisfied: azureml-pipeline~=1.58.0 in /anaconda/envs/jupyter_env/lib/python3.10/site-packages (from azureml-sdk[automl,explain,notebooks,train]) (1.58.0)\nRequirement already satisfied: azureml-train-automl~=1.58.0 in /anaconda/envs/jupyter_env/lib/python3.10/site-packages (from azureml-sdk[automl,explain,notebooks,train]) (1.58.0)\nRequirement already satisfied: azureml-explain-model~=1.58.0 in /anaconda/envs/jupyter_env/lib/python3.10/site-packages (from azureml-sdk[automl,explain,notebooks,train]) (1.58.0)\nRequirement already satisfied: azureml-widgets~=1.58.0 in /anaconda/envs/jupyter_env/lib/python3.10/site-packages (from azureml-sdk[automl,explain,notebooks,train]) (1.58.0)\nRequirement already satisfied: azureml-contrib-notebook~=1.58.0 in /anaconda/envs/jupyter_env/lib/python3.10/site-packages (from azureml-sdk[automl,explain,notebooks,train]) (1.58.0)\nRequirement already satisfied: azureml-pipeline-core~=1.58.0 in /anaconda/envs/jupyter_env/lib/python3.10/site-packages (from azureml-contrib-notebook~=1.58.0->azureml-sdk[automl,explain,notebooks,train]) (1.58.0)\nRequirement already satisfied: ipython in /anaconda/envs/jupyter_env/lib/python3.10/site-packages (from azureml-contrib-notebook~=1.58.0->azureml-sdk[automl,explain,notebooks,train]) (8.27.0)\nRequirement already satisfied: nbconvert<8 in /anaconda/envs/jupyter_env/lib/python3.10/site-packages (from azureml-contrib-notebook~=1.58.0->azureml-sdk[automl,explain,notebooks,train]) (7.16.4)\nRequirement already satisfied: papermill<3 in /anaconda/envs/jupyter_env/lib/python3.10/site-packages (from azureml-contrib-notebook~=1.58.0->azureml-sdk[automl,explain,notebooks,train]) (2.6.0)\nRequirement already satisfied: jupyter-client<8 in /anaconda/envs/jupyter_env/lib/python3.10/site-packages (from azureml-contrib-notebook~=1.58.0->azureml-sdk[automl,explain,notebooks,train]) (7.4.9)\nRequirement already satisfied: ipykernel in /anaconda/envs/jupyter_env/lib/python3.10/site-packages (from azureml-contrib-notebook~=1.58.0->azureml-sdk[automl,explain,notebooks,train]) (6.29.5)\nRequirement already satisfied: pytz in /anaconda/envs/jupyter_env/lib/python3.10/site-packages (from azureml-core~=1.58.0->azureml-sdk[automl,explain,notebooks,train]) (2024.2)\nRequirement already satisfied: backports.tempfile in /anaconda/envs/jupyter_env/lib/python3.10/site-packages (from azureml-core~=1.58.0->azureml-sdk[automl,explain,notebooks,train]) (1.0)\nRequirement already satisfied: pathspec<1.0.0 in /anaconda/envs/jupyter_env/lib/python3.10/site-packages (from azureml-core~=1.58.0->azureml-sdk[automl,explain,notebooks,train]) (0.12.1)\nRequirement already satisfied: requests<3.0.0,>=2.19.1 in /anaconda/envs/jupyter_env/lib/python3.10/site-packages (from requests[socks]<3.0.0,>=2.19.1->azureml-core~=1.58.0->azureml-sdk[automl,explain,notebooks,train]) (2.32.3)\nRequirement already satisfied: msal<2.0.0,>=1.15.0 in /anaconda/envs/jupyter_env/lib/python3.10/site-packages (from azureml-core~=1.58.0->azureml-sdk[automl,explain,notebooks,train]) (1.31.0)\nRequirement already satisfied: msal-extensions<=2.0.0,>=0.3.0 in /anaconda/envs/jupyter_env/lib/python3.10/site-packages (from azureml-core~=1.58.0->azureml-sdk[automl,explain,notebooks,train]) (1.2.0)\nRequirement already satisfied: knack<0.13.0 in /anaconda/envs/jupyter_env/lib/python3.10/site-packages (from azureml-core~=1.58.0->azureml-sdk[automl,explain,notebooks,train]) (0.11.0)\nRequirement already satisfied: azure-core<2.0.0 in /anaconda/envs/jupyter_env/lib/python3.10/site-packages (from azureml-core~=1.58.0->azureml-sdk[automl,explain,notebooks,train]) (1.31.0)\nRequirement already satisfied: pkginfo in /anaconda/envs/jupyter_env/lib/python3.10/site-packages (from azureml-core~=1.58.0->azureml-sdk[automl,explain,notebooks,train]) (1.11.1)\nRequirement already satisfied: argcomplete<4 in /anaconda/envs/jupyter_env/lib/python3.10/site-packages (from azureml-core~=1.58.0->azureml-sdk[automl,explain,notebooks,train]) (3.5.0)\nRequirement already satisfied: humanfriendly<11.0,>=4.7 in /anaconda/envs/jupyter_env/lib/python3.10/site-packages (from azureml-core~=1.58.0->azureml-sdk[automl,explain,notebooks,train]) (10.0)\nRequirement already satisfied: paramiko<4.0.0,>=2.0.8 in /anaconda/envs/jupyter_env/lib/python3.10/site-packages (from azureml-core~=1.58.0->azureml-sdk[automl,explain,notebooks,train]) (3.5.0)\nRequirement already satisfied: azure-mgmt-resource<=24.0.0,>=15.0.0 in /anaconda/envs/jupyter_env/lib/python3.10/site-packages (from azureml-core~=1.58.0->azureml-sdk[automl,explain,notebooks,train]) (23.1.1)\nRequirement already satisfied: azure-mgmt-containerregistry<11,>=8.2.0 in /anaconda/envs/jupyter_env/lib/python3.10/site-packages (from azureml-core~=1.58.0->azureml-sdk[automl,explain,notebooks,train]) (10.3.0)\nRequirement already satisfied: azure-mgmt-storage<=22.0.0,>=16.0.0 in /anaconda/envs/jupyter_env/lib/python3.10/site-packages (from azureml-core~=1.58.0->azureml-sdk[automl,explain,notebooks,train]) (21.2.1)\nRequirement already satisfied: azure-mgmt-keyvault<11.0.0,>=0.40.0 in /anaconda/envs/jupyter_env/lib/python3.10/site-packages (from azureml-core~=1.58.0->azureml-sdk[automl,explain,notebooks,train]) (10.3.1)\nRequirement already satisfied: azure-mgmt-authorization<5,>=0.40.0 in /anaconda/envs/jupyter_env/lib/python3.10/site-packages (from azureml-core~=1.58.0->azureml-sdk[automl,explain,notebooks,train]) (4.0.0)\nRequirement already satisfied: azure-mgmt-network<=28.0.0 in /anaconda/envs/jupyter_env/lib/python3.10/site-packages (from azureml-core~=1.58.0->azureml-sdk[automl,explain,notebooks,train]) (26.0.0)\nRequirement already satisfied: azure-graphrbac<1.0.0,>=0.40.0 in /anaconda/envs/jupyter_env/lib/python3.10/site-packages (from azureml-core~=1.58.0->azureml-sdk[automl,explain,notebooks,train]) (0.61.1)\nRequirement already satisfied: azure-common<2.0.0,>=1.1.12 in /anaconda/envs/jupyter_env/lib/python3.10/site-packages (from azureml-core~=1.58.0->azureml-sdk[automl,explain,notebooks,train]) (1.1.28)\nRequirement already satisfied: msrest<=0.7.1,>=0.5.1 in /anaconda/envs/jupyter_env/lib/python3.10/site-packages (from azureml-core~=1.58.0->azureml-sdk[automl,explain,notebooks,train]) (0.7.1)\nRequirement already satisfied: msrestazure<=0.7,>=0.4.33 in /anaconda/envs/jupyter_env/lib/python3.10/site-packages (from azureml-core~=1.58.0->azureml-sdk[automl,explain,notebooks,train]) (0.6.4.post1)\nRequirement already satisfied: urllib3<3.0.0,>1.26.17 in /anaconda/envs/jupyter_env/lib/python3.10/site-packages (from azureml-core~=1.58.0->azureml-sdk[automl,explain,notebooks,train]) (1.26.20)\nRequirement already satisfied: packaging<=25.0,>=20.0 in /anaconda/envs/jupyter_env/lib/python3.10/site-packages (from azureml-core~=1.58.0->azureml-sdk[automl,explain,notebooks,train]) (24.1)\nRequirement already satisfied: python-dateutil<3.0.0,>=2.7.3 in /anaconda/envs/jupyter_env/lib/python3.10/site-packages (from azureml-core~=1.58.0->azureml-sdk[automl,explain,notebooks,train]) (2.9.0)\nRequirement already satisfied: ndg-httpsclient<=0.5.1 in /anaconda/envs/jupyter_env/lib/python3.10/site-packages (from azureml-core~=1.58.0->azureml-sdk[automl,explain,notebooks,train]) (0.5.1)\nRequirement already satisfied: SecretStorage<4.0.0 in /anaconda/envs/jupyter_env/lib/python3.10/site-packages (from azureml-core~=1.58.0->azureml-sdk[automl,explain,notebooks,train]) (3.3.3)\nRequirement already satisfied: jsonpickle<4.0.0 in /anaconda/envs/jupyter_env/lib/python3.10/site-packages (from azureml-core~=1.58.0->azureml-sdk[automl,explain,notebooks,train]) (3.3.0)\nRequirement already satisfied: contextlib2<22.0.0 in /anaconda/envs/jupyter_env/lib/python3.10/site-packages (from azureml-core~=1.58.0->azureml-sdk[automl,explain,notebooks,train]) (21.6.0)\nRequirement already satisfied: docker<8.0.0 in /anaconda/envs/jupyter_env/lib/python3.10/site-packages (from azureml-core~=1.58.0->azureml-sdk[automl,explain,notebooks,train]) (7.1.0)\nRequirement already satisfied: PyJWT<3.0.0 in /anaconda/envs/jupyter_env/lib/python3.10/site-packages (from azureml-core~=1.58.0->azureml-sdk[automl,explain,notebooks,train]) (2.9.0)\nRequirement already satisfied: adal<=1.2.7,>=1.2.0 in /anaconda/envs/jupyter_env/lib/python3.10/site-packages (from azureml-core~=1.58.0->azureml-sdk[automl,explain,notebooks,train]) (1.2.7)\nRequirement already satisfied: pyopenssl<25.0.0 in /anaconda/envs/jupyter_env/lib/python3.10/site-packages (from azureml-core~=1.58.0->azureml-sdk[automl,explain,notebooks,train]) (24.2.1)\nRequirement already satisfied: jmespath<2.0.0 in /anaconda/envs/jupyter_env/lib/python3.10/site-packages (from azureml-core~=1.58.0->azureml-sdk[automl,explain,notebooks,train]) (0.10.0)\nRequirement already satisfied: azureml-dataprep<5.2.0a,>=5.1.0a in /anaconda/envs/jupyter_env/lib/python3.10/site-packages (from azureml-dataset-runtime~=1.58.0->azureml-dataset-runtime[fuse]~=1.58.0->azureml-sdk[automl,explain,notebooks,train]) (5.1.6)\nRequirement already satisfied: pyarrow>=0.17.0 in /anaconda/envs/jupyter_env/lib/python3.10/site-packages (from azureml-dataset-runtime~=1.58.0->azureml-dataset-runtime[fuse]~=1.58.0->azureml-sdk[automl,explain,notebooks,train]) (14.0.2)\nCollecting numpy!=1.19.3,<1.24 (from azureml-dataset-runtime~=1.58.0->azureml-dataset-runtime[fuse]~=1.58.0->azureml-sdk[automl,explain,notebooks,train])\n  Using cached numpy-1.23.5-cp310-cp310-manylinux_2_17_x86_64.manylinux2014_x86_64.whl.metadata (2.3 kB)\nRequirement already satisfied: fusepy<4.0.0,>=3.0.1 in /anaconda/envs/jupyter_env/lib/python3.10/site-packages (from azureml-dataset-runtime[fuse]~=1.58.0->azureml-sdk[automl,explain,notebooks,train]) (3.0.1)\nRequirement already satisfied: azureml-interpret~=1.58.0 in /anaconda/envs/jupyter_env/lib/python3.10/site-packages (from azureml-explain-model~=1.58.0->azureml-sdk[automl,explain,notebooks,train]) (1.58.0)\nRequirement already satisfied: azureml-pipeline-steps~=1.58.0 in /anaconda/envs/jupyter_env/lib/python3.10/site-packages (from azureml-pipeline~=1.58.0->azureml-sdk[automl,explain,notebooks,train]) (1.58.0)\nRequirement already satisfied: azureml-automl-core~=1.58.0 in /anaconda/envs/jupyter_env/lib/python3.10/site-packages (from azureml-train-automl~=1.58.0->azureml-sdk[automl,explain,notebooks,train]) (1.58.0)\nRequirement already satisfied: azureml-automl-runtime~=1.58.0 in /anaconda/envs/jupyter_env/lib/python3.10/site-packages (from azureml-train-automl~=1.58.0->azureml-sdk[automl,explain,notebooks,train]) (1.58.0)\nRequirement already satisfied: azureml-train-automl-runtime~=1.58.0 in /anaconda/envs/jupyter_env/lib/python3.10/site-packages (from azureml-train-automl~=1.58.0->azureml-sdk[automl,explain,notebooks,train]) (1.58.0)\nRequirement already satisfied: azureml-responsibleai~=1.58.0 in /anaconda/envs/jupyter_env/lib/python3.10/site-packages (from azureml-train-automl~=1.58.0->azureml-sdk[automl,explain,notebooks,train]) (1.58.0)\nRequirement already satisfied: azureml-telemetry~=1.58.0 in /anaconda/envs/jupyter_env/lib/python3.10/site-packages (from azureml-train-automl-client~=1.58.0->azureml-sdk[automl,explain,notebooks,train]) (1.58.0)\nRequirement already satisfied: azureml-train-restclients-hyperdrive~=1.58.0 in /anaconda/envs/jupyter_env/lib/python3.10/site-packages (from azureml-train-core~=1.58.0->azureml-sdk[automl,explain,notebooks,train]) (1.58.0)\nRequirement already satisfied: azure-storage-blob>=12.6.0 in /anaconda/envs/jupyter_env/lib/python3.10/site-packages (from azureml-widgets~=1.58.0->azureml-sdk[automl,explain,notebooks,train]) (12.19.0)\nRequirement already satisfied: ipywidgets<8.0.0,>=7.0.0 in /anaconda/envs/jupyter_env/lib/python3.10/site-packages (from azureml-widgets~=1.58.0->azureml-sdk[automl,explain,notebooks,train]) (7.8.4)\nRequirement already satisfied: jinja2<4.0 in /anaconda/envs/jupyter_env/lib/python3.10/site-packages (from azureml-widgets~=1.58.0->azureml-sdk[automl,explain,notebooks,train]) (3.0.3)\nRequirement already satisfied: cryptography>=1.1.0 in /anaconda/envs/jupyter_env/lib/python3.10/site-packages (from adal<=1.2.7,>=1.2.0->azureml-core~=1.58.0->azureml-sdk[automl,explain,notebooks,train]) (43.0.1)\nRequirement already satisfied: six>=1.11.0 in /anaconda/envs/jupyter_env/lib/python3.10/site-packages (from azure-core<2.0.0->azureml-core~=1.58.0->azureml-sdk[automl,explain,notebooks,train]) (1.16.0)\nRequirement already satisfied: typing-extensions>=4.6.0 in /anaconda/envs/jupyter_env/lib/python3.10/site-packages (from azure-core<2.0.0->azureml-core~=1.58.0->azureml-sdk[automl,explain,notebooks,train]) (4.12.2)\nRequirement already satisfied: isodate<1.0.0,>=0.6.1 in /anaconda/envs/jupyter_env/lib/python3.10/site-packages (from azure-mgmt-authorization<5,>=0.40.0->azureml-core~=1.58.0->azureml-sdk[automl,explain,notebooks,train]) (0.6.1)\nRequirement already satisfied: azure-mgmt-core<2.0.0,>=1.3.2 in /anaconda/envs/jupyter_env/lib/python3.10/site-packages (from azure-mgmt-authorization<5,>=0.40.0->azureml-core~=1.58.0->azureml-sdk[automl,explain,notebooks,train]) (1.4.0)\nRequirement already satisfied: importlib-metadata<=8.2.0 in /anaconda/envs/jupyter_env/lib/python3.10/site-packages (from azureml-automl-core~=1.58.0->azureml-train-automl~=1.58.0->azureml-sdk[automl,explain,notebooks,train]) (7.2.1)\nRequirement already satisfied: importlib-resources<=6.4.0 in /anaconda/envs/jupyter_env/lib/python3.10/site-packages (from azureml-automl-core~=1.58.0->azureml-train-automl~=1.58.0->azureml-sdk[automl,explain,notebooks,train]) (6.4.0)\nRequirement already satisfied: azureml-training-tabular~=1.58.0 in /anaconda/envs/jupyter_env/lib/python3.10/site-packages (from azureml-automl-runtime~=1.58.0->azureml-train-automl~=1.58.0->azureml-sdk[automl,explain,notebooks,train]) (1.58.0)\nRequirement already satisfied: dill<0.4.0,>=0.2.8 in /anaconda/envs/jupyter_env/lib/python3.10/site-packages (from azureml-automl-runtime~=1.58.0->azureml-train-automl~=1.58.0->azureml-sdk[automl,explain,notebooks,train]) (0.3.9)\nRequirement already satisfied: lightgbm<=3.2.1,>=3.0.0 in /anaconda/envs/jupyter_env/lib/python3.10/site-packages (from azureml-automl-runtime~=1.58.0->azureml-train-automl~=1.58.0->azureml-sdk[automl,explain,notebooks,train]) (3.2.1)\nRequirement already satisfied: pandas==1.5.3 in /anaconda/envs/jupyter_env/lib/python3.10/site-packages (from azureml-automl-runtime~=1.58.0->azureml-train-automl~=1.58.0->azureml-sdk[automl,explain,notebooks,train]) (1.5.3)\nRequirement already satisfied: protobuf<=3.20.3 in /anaconda/envs/jupyter_env/lib/python3.10/site-packages (from azureml-automl-runtime~=1.58.0->azureml-train-automl~=1.58.0->azureml-sdk[automl,explain,notebooks,train]) (3.20.3)\nRequirement already satisfied: psutil<5.9.4,>=5.2.2 in /anaconda/envs/jupyter_env/lib/python3.10/site-packages (from azureml-automl-runtime~=1.58.0->azureml-train-automl~=1.58.0->azureml-sdk[automl,explain,notebooks,train]) (5.9.3)\nRequirement already satisfied: scipy<=1.11.0,>=1.0.0 in /anaconda/envs/jupyter_env/lib/python3.10/site-packages (from azureml-automl-runtime~=1.58.0->azureml-train-automl~=1.58.0->azureml-sdk[automl,explain,notebooks,train]) (1.10.1)\nRequirement already satisfied: scikit-learn~=1.5.1 in /anaconda/envs/jupyter_env/lib/python3.10/site-packages (from azureml-automl-runtime~=1.58.0->azureml-train-automl~=1.58.0->azureml-sdk[automl,explain,notebooks,train]) (1.5.1)\nRequirement already satisfied: sklearn-pandas<=1.7.0,>=1.4.0 in /anaconda/envs/jupyter_env/lib/python3.10/site-packages (from azureml-automl-runtime~=1.58.0->azureml-train-automl~=1.58.0->azureml-sdk[automl,explain,notebooks,train]) (1.7.0)\nRequirement already satisfied: statsmodels<0.14,>=0.13.0 in /anaconda/envs/jupyter_env/lib/python3.10/site-packages (from azureml-automl-runtime~=1.58.0->azureml-train-automl~=1.58.0->azureml-sdk[automl,explain,notebooks,train]) (0.13.5)\nRequirement already satisfied: skl2onnx==1.15.0 in /anaconda/envs/jupyter_env/lib/python3.10/site-packages (from azureml-automl-runtime~=1.58.0->azureml-train-automl~=1.58.0->azureml-sdk[automl,explain,notebooks,train]) (1.15.0)\nRequirement already satisfied: onnxmltools==1.11.2 in /anaconda/envs/jupyter_env/lib/python3.10/site-packages (from azureml-automl-runtime~=1.58.0->azureml-train-automl~=1.58.0->azureml-sdk[automl,explain,notebooks,train]) (1.11.2)\nRequirement already satisfied: keras2onnx<=1.6.0,>=1.4.0 in /anaconda/envs/jupyter_env/lib/python3.10/site-packages (from azureml-automl-runtime~=1.58.0->azureml-train-automl~=1.58.0->azureml-sdk[automl,explain,notebooks,train]) (1.6.0)\nRequirement already satisfied: onnxconverter-common==1.13.0 in /anaconda/envs/jupyter_env/lib/python3.10/site-packages (from azureml-automl-runtime~=1.58.0->azureml-train-automl~=1.58.0->azureml-sdk[automl,explain,notebooks,train]) (1.13.0)\nRequirement already satisfied: onnx==1.16.1 in /anaconda/envs/jupyter_env/lib/python3.10/site-packages (from azureml-automl-runtime~=1.58.0->azureml-train-automl~=1.58.0->azureml-sdk[automl,explain,notebooks,train]) (1.16.1)\nRequirement already satisfied: onnxruntime~=1.17.3 in /anaconda/envs/jupyter_env/lib/python3.10/site-packages (from azureml-automl-runtime~=1.58.0->azureml-train-automl~=1.58.0->azureml-sdk[automl,explain,notebooks,train]) (1.17.3)\nRequirement already satisfied: pmdarima==1.8.5 in /anaconda/envs/jupyter_env/lib/python3.10/site-packages (from azureml-automl-runtime~=1.58.0->azureml-train-automl~=1.58.0->azureml-sdk[automl,explain,notebooks,train]) (1.8.5)\nRequirement already satisfied: joblib==1.2.0 in /anaconda/envs/jupyter_env/lib/python3.10/site-packages (from azureml-automl-runtime~=1.58.0->azureml-train-automl~=1.58.0->azureml-sdk[automl,explain,notebooks,train]) (1.2.0)\nRequirement already satisfied: boto3<=1.20.19 in /anaconda/envs/jupyter_env/lib/python3.10/site-packages (from azureml-automl-runtime~=1.58.0->azureml-train-automl~=1.58.0->azureml-sdk[automl,explain,notebooks,train]) (1.20.19)\nRequirement already satisfied: botocore<=1.23.19 in /anaconda/envs/jupyter_env/lib/python3.10/site-packages (from azureml-automl-runtime~=1.58.0->azureml-train-automl~=1.58.0->azureml-sdk[automl,explain,notebooks,train]) (1.23.19)\nRequirement already satisfied: dataclasses<=0.8,>=0.6 in /anaconda/envs/jupyter_env/lib/python3.10/site-packages (from azureml-automl-runtime~=1.58.0->azureml-train-automl~=1.58.0->azureml-sdk[automl,explain,notebooks,train]) (0.6)\nRequirement already satisfied: arch<=5.6.0 in /anaconda/envs/jupyter_env/lib/python3.10/site-packages (from azureml-automl-runtime~=1.58.0->azureml-train-automl~=1.58.0->azureml-sdk[automl,explain,notebooks,train]) (5.6.0)\nRequirement already satisfied: dotnetcore2<4.0.0,>=3.0.0 in /anaconda/envs/jupyter_env/lib/python3.10/site-packages (from azureml-automl-runtime~=1.58.0->azureml-train-automl~=1.58.0->azureml-sdk[automl,explain,notebooks,train]) (3.1.23)\nRequirement already satisfied: gensim==4.3.2 in /anaconda/envs/jupyter_env/lib/python3.10/site-packages (from azureml-automl-runtime~=1.58.0->azureml-train-automl~=1.58.0->azureml-sdk[automl,explain,notebooks,train]) (4.3.2)\nRequirement already satisfied: smart-open==6.4.0 in /anaconda/envs/jupyter_env/lib/python3.10/site-packages (from azureml-automl-runtime~=1.58.0->azureml-train-automl~=1.58.0->azureml-sdk[automl,explain,notebooks,train]) (6.4.0)\nRequirement already satisfied: Cython!=0.29.18,>=0.29 in /anaconda/envs/jupyter_env/lib/python3.10/site-packages (from pmdarima==1.8.5->azureml-automl-runtime~=1.58.0->azureml-train-automl~=1.58.0->azureml-sdk[automl,explain,notebooks,train]) (3.0.11)\nRequirement already satisfied: setuptools!=50.0.0,>=38.6.0 in /anaconda/envs/jupyter_env/lib/python3.10/site-packages (from pmdarima==1.8.5->azureml-automl-runtime~=1.58.0->azureml-train-automl~=1.58.0->azureml-sdk[automl,explain,notebooks,train]) (75.1.0)\nRequirement already satisfied: azureml-dataprep-native<42.0.0,>=41.0.0 in /anaconda/envs/jupyter_env/lib/python3.10/site-packages (from azureml-dataprep<5.2.0a,>=5.1.0a->azureml-dataset-runtime~=1.58.0->azureml-dataset-runtime[fuse]~=1.58.0->azureml-sdk[automl,explain,notebooks,train]) (41.0.0)\nRequirement already satisfied: azureml-dataprep-rslex~=2.22.2dev0 in /anaconda/envs/jupyter_env/lib/python3.10/site-packages (from azureml-dataprep<5.2.0a,>=5.1.0a->azureml-dataset-runtime~=1.58.0->azureml-dataset-runtime[fuse]~=1.58.0->azureml-sdk[automl,explain,notebooks,train]) (2.22.4)\nRequirement already satisfied: cloudpickle<3.0.0,>=1.1.0 in /anaconda/envs/jupyter_env/lib/python3.10/site-packages (from azureml-dataprep<5.2.0a,>=5.1.0a->azureml-dataset-runtime~=1.58.0->azureml-dataset-runtime[fuse]~=1.58.0->azureml-sdk[automl,explain,notebooks,train]) (2.2.1)\nRequirement already satisfied: azure-identity>=1.7.0 in /anaconda/envs/jupyter_env/lib/python3.10/site-packages (from azureml-dataprep<5.2.0a,>=5.1.0a->azureml-dataset-runtime~=1.58.0->azureml-dataset-runtime[fuse]~=1.58.0->azureml-sdk[automl,explain,notebooks,train]) (1.19.0)\nRequirement already satisfied: jsonschema in /anaconda/envs/jupyter_env/lib/python3.10/site-packages (from azureml-dataprep<5.2.0a,>=5.1.0a->azureml-dataset-runtime~=1.58.0->azureml-dataset-runtime[fuse]~=1.58.0->azureml-sdk[automl,explain,notebooks,train]) (4.23.0)\nRequirement already satisfied: pyyaml<7.0.0,>=5.1.0 in /anaconda/envs/jupyter_env/lib/python3.10/site-packages (from azureml-dataprep<5.2.0a,>=5.1.0a->azureml-dataset-runtime~=1.58.0->azureml-dataset-runtime[fuse]~=1.58.0->azureml-sdk[automl,explain,notebooks,train]) (6.0.2)\nRequirement already satisfied: interpret-community==0.31.* in /anaconda/envs/jupyter_env/lib/python3.10/site-packages (from azureml-interpret~=1.58.0->azureml-explain-model~=1.58.0->azureml-sdk[automl,explain,notebooks,train]) (0.31.0)\nCollecting numba<=0.56.4 (from azureml-interpret~=1.58.0->azureml-explain-model~=1.58.0->azureml-sdk[automl,explain,notebooks,train])\n  Using cached numba-0.56.4-cp310-cp310-manylinux2014_x86_64.manylinux_2_17_x86_64.whl.metadata (2.8 kB)\nRequirement already satisfied: ml-wrappers~=0.5.4 in /anaconda/envs/jupyter_env/lib/python3.10/site-packages (from interpret-community==0.31.*->azureml-interpret~=1.58.0->azureml-explain-model~=1.58.0->azureml-sdk[automl,explain,notebooks,train]) (0.5.6)\nRequirement already satisfied: shap<=0.44.0,>=0.20.0 in /anaconda/envs/jupyter_env/lib/python3.10/site-packages (from interpret-community==0.31.*->azureml-interpret~=1.58.0->azureml-explain-model~=1.58.0->azureml-sdk[automl,explain,notebooks,train]) (0.43.0)\nRequirement already satisfied: raiutils~=0.4.0 in /anaconda/envs/jupyter_env/lib/python3.10/site-packages (from interpret-community==0.31.*->azureml-interpret~=1.58.0->azureml-explain-model~=1.58.0->azureml-sdk[automl,explain,notebooks,train]) (0.4.2)\nRequirement already satisfied: interpret-core<=0.5.0,>=0.1.20 in /anaconda/envs/jupyter_env/lib/python3.10/site-packages (from interpret-community==0.31.*->azureml-interpret~=1.58.0->azureml-explain-model~=1.58.0->azureml-sdk[automl,explain,notebooks,train]) (0.5.0)\nRequirement already satisfied: fairlearn==0.7.0 in /anaconda/envs/jupyter_env/lib/python3.10/site-packages (from azureml-responsibleai~=1.58.0->azureml-train-automl~=1.58.0->azureml-sdk[automl,explain,notebooks,train]) (0.7.0)\nRequirement already satisfied: responsibleai==0.36.0 in /anaconda/envs/jupyter_env/lib/python3.10/site-packages (from azureml-responsibleai~=1.58.0->azureml-train-automl~=1.58.0->azureml-sdk[automl,explain,notebooks,train]) (0.36.0)\nRequirement already satisfied: dice-ml<0.12,>=0.11 in /anaconda/envs/jupyter_env/lib/python3.10/site-packages (from responsibleai==0.36.0->azureml-responsibleai~=1.58.0->azureml-train-automl~=1.58.0->azureml-sdk[automl,explain,notebooks,train]) (0.11)\nRequirement already satisfied: econml>=0.14.1 in /anaconda/envs/jupyter_env/lib/python3.10/site-packages (from responsibleai==0.36.0->azureml-responsibleai~=1.58.0->azureml-train-automl~=1.58.0->azureml-sdk[automl,explain,notebooks,train]) (0.15.1)\nRequirement already satisfied: erroranalysis>=0.5.4 in /anaconda/envs/jupyter_env/lib/python3.10/site-packages (from responsibleai==0.36.0->azureml-responsibleai~=1.58.0->azureml-train-automl~=1.58.0->azureml-sdk[automl,explain,notebooks,train]) (0.5.4)\nRequirement already satisfied: semver~=2.13.0 in /anaconda/envs/jupyter_env/lib/python3.10/site-packages (from responsibleai==0.36.0->azureml-responsibleai~=1.58.0->azureml-train-automl~=1.58.0->azureml-sdk[automl,explain,notebooks,train]) (2.13.0)\nRequirement already satisfied: networkx<=2.5 in /anaconda/envs/jupyter_env/lib/python3.10/site-packages (from responsibleai==0.36.0->azureml-responsibleai~=1.58.0->azureml-train-automl~=1.58.0->azureml-sdk[automl,explain,notebooks,train]) (2.5)\nRequirement already satisfied: applicationinsights in /anaconda/envs/jupyter_env/lib/python3.10/site-packages (from azureml-telemetry~=1.58.0->azureml-train-automl-client~=1.58.0->azureml-sdk[automl,explain,notebooks,train]) (0.11.10)\nRequirement already satisfied: azure-storage-queue~=12.1 in /anaconda/envs/jupyter_env/lib/python3.10/site-packages (from azureml-train-automl-runtime~=1.58.0->azureml-train-automl~=1.58.0->azureml-sdk[automl,explain,notebooks,train]) (12.12.0)\nRequirement already satisfied: dask<=2023.2.0 in /anaconda/envs/jupyter_env/lib/python3.10/site-packages (from dask[complete]<=2023.2.0->azureml-train-automl-runtime~=1.58.0->azureml-train-automl~=1.58.0->azureml-sdk[automl,explain,notebooks,train]) (2023.2.0)\nRequirement already satisfied: bokeh<3.0.0 in /anaconda/envs/jupyter_env/lib/python3.10/site-packages (from azureml-train-automl-runtime~=1.58.0->azureml-train-automl~=1.58.0->azureml-sdk[automl,explain,notebooks,train]) (2.4.3)\nRequirement already satisfied: azureml-mlflow~=1.58.0 in /anaconda/envs/jupyter_env/lib/python3.10/site-packages (from azureml-train-automl-runtime~=1.58.0->azureml-train-automl~=1.58.0->azureml-sdk[automl,explain,notebooks,train]) (1.58.0.post2)\nRequirement already satisfied: comm>=0.1.1 in /anaconda/envs/jupyter_env/lib/python3.10/site-packages (from ipykernel->azureml-contrib-notebook~=1.58.0->azureml-sdk[automl,explain,notebooks,train]) (0.2.2)\nRequirement already satisfied: debugpy>=1.6.5 in /anaconda/envs/jupyter_env/lib/python3.10/site-packages (from ipykernel->azureml-contrib-notebook~=1.58.0->azureml-sdk[automl,explain,notebooks,train]) (1.8.5)\nRequirement already satisfied: jupyter-core!=5.0.*,>=4.12 in /anaconda/envs/jupyter_env/lib/python3.10/site-packages (from ipykernel->azureml-contrib-notebook~=1.58.0->azureml-sdk[automl,explain,notebooks,train]) (5.7.2)\nRequirement already satisfied: matplotlib-inline>=0.1 in /anaconda/envs/jupyter_env/lib/python3.10/site-packages (from ipykernel->azureml-contrib-notebook~=1.58.0->azureml-sdk[automl,explain,notebooks,train]) (0.1.7)\nRequirement already satisfied: nest-asyncio in /anaconda/envs/jupyter_env/lib/python3.10/site-packages (from ipykernel->azureml-contrib-notebook~=1.58.0->azureml-sdk[automl,explain,notebooks,train]) (1.6.0)\nRequirement already satisfied: pyzmq>=24 in /anaconda/envs/jupyter_env/lib/python3.10/site-packages (from ipykernel->azureml-contrib-notebook~=1.58.0->azureml-sdk[automl,explain,notebooks,train]) (26.2.0)\nRequirement already satisfied: tornado>=6.1 in /anaconda/envs/jupyter_env/lib/python3.10/site-packages (from ipykernel->azureml-contrib-notebook~=1.58.0->azureml-sdk[automl,explain,notebooks,train]) (6.4.1)\nRequirement already satisfied: traitlets>=5.4.0 in /anaconda/envs/jupyter_env/lib/python3.10/site-packages (from ipykernel->azureml-contrib-notebook~=1.58.0->azureml-sdk[automl,explain,notebooks,train]) (5.14.3)\nRequirement already satisfied: decorator in /anaconda/envs/jupyter_env/lib/python3.10/site-packages (from ipython->azureml-contrib-notebook~=1.58.0->azureml-sdk[automl,explain,notebooks,train]) (5.1.1)\nRequirement already satisfied: jedi>=0.16 in /anaconda/envs/jupyter_env/lib/python3.10/site-packages (from ipython->azureml-contrib-notebook~=1.58.0->azureml-sdk[automl,explain,notebooks,train]) (0.19.1)\nRequirement already satisfied: prompt-toolkit<3.1.0,>=3.0.41 in /anaconda/envs/jupyter_env/lib/python3.10/site-packages (from ipython->azureml-contrib-notebook~=1.58.0->azureml-sdk[automl,explain,notebooks,train]) (3.0.47)\nRequirement already satisfied: pygments>=2.4.0 in /anaconda/envs/jupyter_env/lib/python3.10/site-packages (from ipython->azureml-contrib-notebook~=1.58.0->azureml-sdk[automl,explain,notebooks,train]) (2.18.0)\nRequirement already satisfied: stack-data in /anaconda/envs/jupyter_env/lib/python3.10/site-packages (from ipython->azureml-contrib-notebook~=1.58.0->azureml-sdk[automl,explain,notebooks,train]) (0.6.2)\nRequirement already satisfied: exceptiongroup in /anaconda/envs/jupyter_env/lib/python3.10/site-packages (from ipython->azureml-contrib-notebook~=1.58.0->azureml-sdk[automl,explain,notebooks,train]) (1.2.2)\nRequirement already satisfied: pexpect>4.3 in /anaconda/envs/jupyter_env/lib/python3.10/site-packages (from ipython->azureml-contrib-notebook~=1.58.0->azureml-sdk[automl,explain,notebooks,train]) (4.9.0)\nRequirement already satisfied: ipython-genutils~=0.2.0 in /anaconda/envs/jupyter_env/lib/python3.10/site-packages (from ipywidgets<8.0.0,>=7.0.0->azureml-widgets~=1.58.0->azureml-sdk[automl,explain,notebooks,train]) (0.2.0)\nRequirement already satisfied: widgetsnbextension~=3.6.9 in /anaconda/envs/jupyter_env/lib/python3.10/site-packages (from ipywidgets<8.0.0,>=7.0.0->azureml-widgets~=1.58.0->azureml-sdk[automl,explain,notebooks,train]) (3.6.9)\nRequirement already satisfied: jupyterlab-widgets<3,>=1.0.0 in /anaconda/envs/jupyter_env/lib/python3.10/site-packages (from ipywidgets<8.0.0,>=7.0.0->azureml-widgets~=1.58.0->azureml-sdk[automl,explain,notebooks,train]) (1.1.1)\nRequirement already satisfied: MarkupSafe>=2.0 in /anaconda/envs/jupyter_env/lib/python3.10/site-packages (from jinja2<4.0->azureml-widgets~=1.58.0->azureml-sdk[automl,explain,notebooks,train]) (2.1.5)\nRequirement already satisfied: entrypoints in /anaconda/envs/jupyter_env/lib/python3.10/site-packages (from jupyter-client<8->azureml-contrib-notebook~=1.58.0->azureml-sdk[automl,explain,notebooks,train]) (0.4)\nRequirement already satisfied: tabulate in /anaconda/envs/jupyter_env/lib/python3.10/site-packages (from knack<0.13.0->azureml-core~=1.58.0->azureml-sdk[automl,explain,notebooks,train]) (0.9.0)\nRequirement already satisfied: portalocker<3,>=1.4 in /anaconda/envs/jupyter_env/lib/python3.10/site-packages (from msal-extensions<=2.0.0,>=0.3.0->azureml-core~=1.58.0->azureml-sdk[automl,explain,notebooks,train]) (2.10.1)\nRequirement already satisfied: certifi>=2017.4.17 in /anaconda/envs/jupyter_env/lib/python3.10/site-packages (from msrest<=0.7.1,>=0.5.1->azureml-core~=1.58.0->azureml-sdk[automl,explain,notebooks,train]) (2024.8.30)\nRequirement already satisfied: requests-oauthlib>=0.5.0 in /anaconda/envs/jupyter_env/lib/python3.10/site-packages (from msrest<=0.7.1,>=0.5.1->azureml-core~=1.58.0->azureml-sdk[automl,explain,notebooks,train]) (2.0.0)\nRequirement already satisfied: beautifulsoup4 in /anaconda/envs/jupyter_env/lib/python3.10/site-packages (from nbconvert<8->azureml-contrib-notebook~=1.58.0->azureml-sdk[automl,explain,notebooks,train]) (4.12.3)\nRequirement already satisfied: bleach!=5.0.0 in /anaconda/envs/jupyter_env/lib/python3.10/site-packages (from nbconvert<8->azureml-contrib-notebook~=1.58.0->azureml-sdk[automl,explain,notebooks,train]) (6.1.0)\nRequirement already satisfied: defusedxml in /anaconda/envs/jupyter_env/lib/python3.10/site-packages (from nbconvert<8->azureml-contrib-notebook~=1.58.0->azureml-sdk[automl,explain,notebooks,train]) (0.7.1)\nRequirement already satisfied: jupyterlab-pygments in /anaconda/envs/jupyter_env/lib/python3.10/site-packages (from nbconvert<8->azureml-contrib-notebook~=1.58.0->azureml-sdk[automl,explain,notebooks,train]) (0.3.0)\nRequirement already satisfied: mistune<4,>=2.0.3 in /anaconda/envs/jupyter_env/lib/python3.10/site-packages (from nbconvert<8->azureml-contrib-notebook~=1.58.0->azureml-sdk[automl,explain,notebooks,train]) (2.0.5)\nRequirement already satisfied: nbclient>=0.5.0 in /anaconda/envs/jupyter_env/lib/python3.10/site-packages (from nbconvert<8->azureml-contrib-notebook~=1.58.0->azureml-sdk[automl,explain,notebooks,train]) (0.10.0)\nRequirement already satisfied: nbformat>=5.7 in /anaconda/envs/jupyter_env/lib/python3.10/site-packages (from nbconvert<8->azureml-contrib-notebook~=1.58.0->azureml-sdk[automl,explain,notebooks,train]) (5.10.3)\nRequirement already satisfied: pandocfilters>=1.4.1 in /anaconda/envs/jupyter_env/lib/python3.10/site-packages (from nbconvert<8->azureml-contrib-notebook~=1.58.0->azureml-sdk[automl,explain,notebooks,train]) (1.5.0)\nRequirement already satisfied: tinycss2 in /anaconda/envs/jupyter_env/lib/python3.10/site-packages (from nbconvert<8->azureml-contrib-notebook~=1.58.0->azureml-sdk[automl,explain,notebooks,train]) (1.3.0)\nRequirement already satisfied: pyasn1>=0.1.1 in /anaconda/envs/jupyter_env/lib/python3.10/site-packages (from ndg-httpsclient<=0.5.1->azureml-core~=1.58.0->azureml-sdk[automl,explain,notebooks,train]) (0.6.1)\nRequirement already satisfied: click in /anaconda/envs/jupyter_env/lib/python3.10/site-packages (from papermill<3->azureml-contrib-notebook~=1.58.0->azureml-sdk[automl,explain,notebooks,train]) (8.1.7)\nRequirement already satisfied: tqdm>=4.32.2 in /anaconda/envs/jupyter_env/lib/python3.10/site-packages (from papermill<3->azureml-contrib-notebook~=1.58.0->azureml-sdk[automl,explain,notebooks,train]) (4.66.6)\nRequirement already satisfied: tenacity>=5.0.2 in /anaconda/envs/jupyter_env/lib/python3.10/site-packages (from papermill<3->azureml-contrib-notebook~=1.58.0->azureml-sdk[automl,explain,notebooks,train]) (9.0.0)\nRequirement already satisfied: ansicolors in /anaconda/envs/jupyter_env/lib/python3.10/site-packages (from papermill<3->azureml-contrib-notebook~=1.58.0->azureml-sdk[automl,explain,notebooks,train]) (1.1.8)\nRequirement already satisfied: bcrypt>=3.2 in /anaconda/envs/jupyter_env/lib/python3.10/site-packages (from paramiko<4.0.0,>=2.0.8->azureml-core~=1.58.0->azureml-sdk[automl,explain,notebooks,train]) (4.2.0)\nRequirement already satisfied: pynacl>=1.5 in /anaconda/envs/jupyter_env/lib/python3.10/site-packages (from paramiko<4.0.0,>=2.0.8->azureml-core~=1.58.0->azureml-sdk[automl,explain,notebooks,train]) (1.5.0)\nRequirement already satisfied: charset-normalizer<4,>=2 in /anaconda/envs/jupyter_env/lib/python3.10/site-packages (from requests<3.0.0,>=2.19.1->requests[socks]<3.0.0,>=2.19.1->azureml-core~=1.58.0->azureml-sdk[automl,explain,notebooks,train]) (3.3.2)\nRequirement already satisfied: idna<4,>=2.5 in /anaconda/envs/jupyter_env/lib/python3.10/site-packages (from requests<3.0.0,>=2.19.1->requests[socks]<3.0.0,>=2.19.1->azureml-core~=1.58.0->azureml-sdk[automl,explain,notebooks,train]) (3.10)\nRequirement already satisfied: PySocks!=1.5.7,>=1.5.6 in /anaconda/envs/jupyter_env/lib/python3.10/site-packages (from requests[socks]<3.0.0,>=2.19.1->azureml-core~=1.58.0->azureml-sdk[automl,explain,notebooks,train]) (1.7.1)\nRequirement already satisfied: jeepney>=0.6 in /anaconda/envs/jupyter_env/lib/python3.10/site-packages (from SecretStorage<4.0.0->azureml-core~=1.58.0->azureml-sdk[automl,explain,notebooks,train]) (0.8.0)\nRequirement already satisfied: backports.weakref in /anaconda/envs/jupyter_env/lib/python3.10/site-packages (from backports.tempfile->azureml-core~=1.58.0->azureml-sdk[automl,explain,notebooks,train]) (1.0.post1)\nRequirement already satisfied: property-cached>=1.6.4 in /anaconda/envs/jupyter_env/lib/python3.10/site-packages (from arch<=5.6.0->azureml-automl-runtime~=1.58.0->azureml-train-automl~=1.58.0->azureml-sdk[automl,explain,notebooks,train]) (1.6.4)\nRequirement already satisfied: mlflow-skinny<=2.15.1 in /anaconda/envs/jupyter_env/lib/python3.10/site-packages (from azureml-mlflow~=1.58.0->azureml-train-automl-runtime~=1.58.0->azureml-train-automl~=1.58.0->azureml-sdk[automl,explain,notebooks,train]) (2.15.1)\nRequirement already satisfied: webencodings in /anaconda/envs/jupyter_env/lib/python3.10/site-packages (from bleach!=5.0.0->nbconvert<8->azureml-contrib-notebook~=1.58.0->azureml-sdk[automl,explain,notebooks,train]) (0.5.1)\nRequirement already satisfied: pillow>=7.1.0 in /anaconda/envs/jupyter_env/lib/python3.10/site-packages (from bokeh<3.0.0->azureml-train-automl-runtime~=1.58.0->azureml-train-automl~=1.58.0->azureml-sdk[automl,explain,notebooks,train]) (10.4.0)\nRequirement already satisfied: s3transfer<0.6.0,>=0.5.0 in /anaconda/envs/jupyter_env/lib/python3.10/site-packages (from boto3<=1.20.19->azureml-automl-runtime~=1.58.0->azureml-train-automl~=1.58.0->azureml-sdk[automl,explain,notebooks,train]) (0.5.2)\nRequirement already satisfied: cffi>=1.12 in /anaconda/envs/jupyter_env/lib/python3.10/site-packages (from cryptography>=1.1.0->adal<=1.2.7,>=1.2.0->azureml-core~=1.58.0->azureml-sdk[automl,explain,notebooks,train]) (1.17.1)\nRequirement already satisfied: fsspec>=0.6.0 in /anaconda/envs/jupyter_env/lib/python3.10/site-packages (from dask<=2023.2.0->dask[complete]<=2023.2.0->azureml-train-automl-runtime~=1.58.0->azureml-train-automl~=1.58.0->azureml-sdk[automl,explain,notebooks,train]) (2024.9.0)\nRequirement already satisfied: partd>=0.3.10 in /anaconda/envs/jupyter_env/lib/python3.10/site-packages (from dask<=2023.2.0->dask[complete]<=2023.2.0->azureml-train-automl-runtime~=1.58.0->azureml-train-automl~=1.58.0->azureml-sdk[automl,explain,notebooks,train]) (1.4.2)\nRequirement already satisfied: toolz>=0.8.2 in /anaconda/envs/jupyter_env/lib/python3.10/site-packages (from dask<=2023.2.0->dask[complete]<=2023.2.0->azureml-train-automl-runtime~=1.58.0->azureml-train-automl~=1.58.0->azureml-sdk[automl,explain,notebooks,train]) (1.0.0)\nRequirement already satisfied: distributed==2023.2.0 in /anaconda/envs/jupyter_env/lib/python3.10/site-packages (from dask[complete]<=2023.2.0->azureml-train-automl-runtime~=1.58.0->azureml-train-automl~=1.58.0->azureml-sdk[automl,explain,notebooks,train]) (2023.2.0)\nRequirement already satisfied: locket>=1.0.0 in /anaconda/envs/jupyter_env/lib/python3.10/site-packages (from distributed==2023.2.0->dask[complete]<=2023.2.0->azureml-train-automl-runtime~=1.58.0->azureml-train-automl~=1.58.0->azureml-sdk[automl,explain,notebooks,train]) (1.0.0)\nRequirement already satisfied: msgpack>=1.0.0 in /anaconda/envs/jupyter_env/lib/python3.10/site-packages (from distributed==2023.2.0->dask[complete]<=2023.2.0->azureml-train-automl-runtime~=1.58.0->azureml-train-automl~=1.58.0->azureml-sdk[automl,explain,notebooks,train]) (1.1.0)\nRequirement already satisfied: sortedcontainers>=2.0.5 in /anaconda/envs/jupyter_env/lib/python3.10/site-packages (from distributed==2023.2.0->dask[complete]<=2023.2.0->azureml-train-automl-runtime~=1.58.0->azureml-train-automl~=1.58.0->azureml-sdk[automl,explain,notebooks,train]) (2.4.0)\nRequirement already satisfied: tblib>=1.6.0 in /anaconda/envs/jupyter_env/lib/python3.10/site-packages (from distributed==2023.2.0->dask[complete]<=2023.2.0->azureml-train-automl-runtime~=1.58.0->azureml-train-automl~=1.58.0->azureml-sdk[automl,explain,notebooks,train]) (3.0.0)\nRequirement already satisfied: zict>=2.1.0 in /anaconda/envs/jupyter_env/lib/python3.10/site-packages (from distributed==2023.2.0->dask[complete]<=2023.2.0->azureml-train-automl-runtime~=1.58.0->azureml-train-automl~=1.58.0->azureml-sdk[automl,explain,notebooks,train]) (3.0.0)\nRequirement already satisfied: distro>=1.2.0 in /anaconda/envs/jupyter_env/lib/python3.10/site-packages (from dotnetcore2<4.0.0,>=3.0.0->azureml-automl-runtime~=1.58.0->azureml-train-automl~=1.58.0->azureml-sdk[automl,explain,notebooks,train]) (1.9.0)\nRequirement already satisfied: zipp>=0.5 in /anaconda/envs/jupyter_env/lib/python3.10/site-packages (from importlib-metadata<=8.2.0->azureml-automl-core~=1.58.0->azureml-train-automl~=1.58.0->azureml-sdk[automl,explain,notebooks,train]) (3.20.2)\nRequirement already satisfied: parso<0.9.0,>=0.8.3 in /anaconda/envs/jupyter_env/lib/python3.10/site-packages (from jedi>=0.16->ipython->azureml-contrib-notebook~=1.58.0->azureml-sdk[automl,explain,notebooks,train]) (0.8.4)\nRequirement already satisfied: platformdirs>=2.5 in /anaconda/envs/jupyter_env/lib/python3.10/site-packages (from jupyter-core!=5.0.*,>=4.12->ipykernel->azureml-contrib-notebook~=1.58.0->azureml-sdk[automl,explain,notebooks,train]) (4.3.6)\nRequirement already satisfied: fire in /anaconda/envs/jupyter_env/lib/python3.10/site-packages (from keras2onnx<=1.6.0,>=1.4.0->azureml-automl-runtime~=1.58.0->azureml-train-automl~=1.58.0->azureml-sdk[automl,explain,notebooks,train]) (0.7.0)\nRequirement already satisfied: wheel in /anaconda/envs/jupyter_env/lib/python3.10/site-packages (from lightgbm<=3.2.1,>=3.0.0->azureml-automl-runtime~=1.58.0->azureml-train-automl~=1.58.0->azureml-sdk[automl,explain,notebooks,train]) (0.44.0)\nRequirement already satisfied: fastjsonschema in /anaconda/envs/jupyter_env/lib/python3.10/site-packages (from nbformat>=5.7->nbconvert<8->azureml-contrib-notebook~=1.58.0->azureml-sdk[automl,explain,notebooks,train]) (2.20.0)\nRequirement already satisfied: attrs>=22.2.0 in /anaconda/envs/jupyter_env/lib/python3.10/site-packages (from jsonschema->azureml-dataprep<5.2.0a,>=5.1.0a->azureml-dataset-runtime~=1.58.0->azureml-dataset-runtime[fuse]~=1.58.0->azureml-sdk[automl,explain,notebooks,train]) (24.2.0)\nRequirement already satisfied: jsonschema-specifications>=2023.03.6 in /anaconda/envs/jupyter_env/lib/python3.10/site-packages (from jsonschema->azureml-dataprep<5.2.0a,>=5.1.0a->azureml-dataset-runtime~=1.58.0->azureml-dataset-runtime[fuse]~=1.58.0->azureml-sdk[automl,explain,notebooks,train]) (2023.12.1)\nRequirement already satisfied: referencing>=0.28.4 in /anaconda/envs/jupyter_env/lib/python3.10/site-packages (from jsonschema->azureml-dataprep<5.2.0a,>=5.1.0a->azureml-dataset-runtime~=1.58.0->azureml-dataset-runtime[fuse]~=1.58.0->azureml-sdk[automl,explain,notebooks,train]) (0.35.1)\nRequirement already satisfied: rpds-py>=0.7.1 in /anaconda/envs/jupyter_env/lib/python3.10/site-packages (from jsonschema->azureml-dataprep<5.2.0a,>=5.1.0a->azureml-dataset-runtime~=1.58.0->azureml-dataset-runtime[fuse]~=1.58.0->azureml-sdk[automl,explain,notebooks,train]) (0.20.0)\nCollecting llvmlite<0.40,>=0.39.0dev0 (from numba<=0.56.4->azureml-interpret~=1.58.0->azureml-explain-model~=1.58.0->azureml-sdk[automl,explain,notebooks,train])\n  Using cached llvmlite-0.39.1-cp310-cp310-manylinux_2_17_x86_64.manylinux2014_x86_64.whl.metadata (4.7 kB)\nRequirement already satisfied: coloredlogs in /anaconda/envs/jupyter_env/lib/python3.10/site-packages (from onnxruntime~=1.17.3->azureml-automl-runtime~=1.58.0->azureml-train-automl~=1.58.0->azureml-sdk[automl,explain,notebooks,train]) (15.0.1)\nRequirement already satisfied: flatbuffers in /anaconda/envs/jupyter_env/lib/python3.10/site-packages (from onnxruntime~=1.17.3->azureml-automl-runtime~=1.58.0->azureml-train-automl~=1.58.0->azureml-sdk[automl,explain,notebooks,train]) (24.3.25)\nRequirement already satisfied: sympy in /anaconda/envs/jupyter_env/lib/python3.10/site-packages (from onnxruntime~=1.17.3->azureml-automl-runtime~=1.58.0->azureml-train-automl~=1.58.0->azureml-sdk[automl,explain,notebooks,train]) (1.13.3)\nRequirement already satisfied: ptyprocess>=0.5 in /anaconda/envs/jupyter_env/lib/python3.10/site-packages (from pexpect>4.3->ipython->azureml-contrib-notebook~=1.58.0->azureml-sdk[automl,explain,notebooks,train]) (0.7.0)\nRequirement already satisfied: wcwidth in /anaconda/envs/jupyter_env/lib/python3.10/site-packages (from prompt-toolkit<3.1.0,>=3.0.41->ipython->azureml-contrib-notebook~=1.58.0->azureml-sdk[automl,explain,notebooks,train]) (0.2.13)\nRequirement already satisfied: oauthlib>=3.0.0 in /anaconda/envs/jupyter_env/lib/python3.10/site-packages (from requests-oauthlib>=0.5.0->msrest<=0.7.1,>=0.5.1->azureml-core~=1.58.0->azureml-sdk[automl,explain,notebooks,train]) (3.2.2)\nRequirement already satisfied: threadpoolctl>=3.1.0 in /anaconda/envs/jupyter_env/lib/python3.10/site-packages (from scikit-learn~=1.5.1->azureml-automl-runtime~=1.58.0->azureml-train-automl~=1.58.0->azureml-sdk[automl,explain,notebooks,train]) (3.5.0)\nRequirement already satisfied: patsy>=0.5.2 in /anaconda/envs/jupyter_env/lib/python3.10/site-packages (from statsmodels<0.14,>=0.13.0->azureml-automl-runtime~=1.58.0->azureml-train-automl~=1.58.0->azureml-sdk[automl,explain,notebooks,train]) (0.5.6)\nRequirement already satisfied: notebook>=4.4.1 in /anaconda/envs/jupyter_env/lib/python3.10/site-packages (from widgetsnbextension~=3.6.9->ipywidgets<8.0.0,>=7.0.0->azureml-widgets~=1.58.0->azureml-sdk[automl,explain,notebooks,train]) (6.5.7)\nRequirement already satisfied: soupsieve>1.2 in /anaconda/envs/jupyter_env/lib/python3.10/site-packages (from beautifulsoup4->nbconvert<8->azureml-contrib-notebook~=1.58.0->azureml-sdk[automl,explain,notebooks,train]) (2.5)\nRequirement already satisfied: executing>=1.2.0 in /anaconda/envs/jupyter_env/lib/python3.10/site-packages (from stack-data->ipython->azureml-contrib-notebook~=1.58.0->azureml-sdk[automl,explain,notebooks,train]) (2.1.0)\nRequirement already satisfied: asttokens>=2.1.0 in /anaconda/envs/jupyter_env/lib/python3.10/site-packages (from stack-data->ipython->azureml-contrib-notebook~=1.58.0->azureml-sdk[automl,explain,notebooks,train]) (2.4.1)\nRequirement already satisfied: pure-eval in /anaconda/envs/jupyter_env/lib/python3.10/site-packages (from stack-data->ipython->azureml-contrib-notebook~=1.58.0->azureml-sdk[automl,explain,notebooks,train]) (0.2.3)\nRequirement already satisfied: pycparser in /anaconda/envs/jupyter_env/lib/python3.10/site-packages (from cffi>=1.12->cryptography>=1.1.0->adal<=1.2.7,>=1.2.0->azureml-core~=1.58.0->azureml-sdk[automl,explain,notebooks,train]) (2.22)\nRequirement already satisfied: sparse in /anaconda/envs/jupyter_env/lib/python3.10/site-packages (from econml>=0.14.1->responsibleai==0.36.0->azureml-responsibleai~=1.58.0->azureml-train-automl~=1.58.0->azureml-sdk[automl,explain,notebooks,train]) (0.15.4)\nRequirement already satisfied: cachetools<6,>=5.0.0 in /anaconda/envs/jupyter_env/lib/python3.10/site-packages (from mlflow-skinny<=2.15.1->azureml-mlflow~=1.58.0->azureml-train-automl-runtime~=1.58.0->azureml-train-automl~=1.58.0->azureml-sdk[automl,explain,notebooks,train]) (5.5.0)\nRequirement already satisfied: databricks-sdk<1,>=0.20.0 in /anaconda/envs/jupyter_env/lib/python3.10/site-packages (from mlflow-skinny<=2.15.1->azureml-mlflow~=1.58.0->azureml-train-automl-runtime~=1.58.0->azureml-train-automl~=1.58.0->azureml-sdk[automl,explain,notebooks,train]) (0.36.0)\nRequirement already satisfied: gitpython<4,>=3.1.9 in /anaconda/envs/jupyter_env/lib/python3.10/site-packages (from mlflow-skinny<=2.15.1->azureml-mlflow~=1.58.0->azureml-train-automl-runtime~=1.58.0->azureml-train-automl~=1.58.0->azureml-sdk[automl,explain,notebooks,train]) (3.1.43)\nRequirement already satisfied: opentelemetry-api<3,>=1.9.0 in /anaconda/envs/jupyter_env/lib/python3.10/site-packages (from mlflow-skinny<=2.15.1->azureml-mlflow~=1.58.0->azureml-train-automl-runtime~=1.58.0->azureml-train-automl~=1.58.0->azureml-sdk[automl,explain,notebooks,train]) (1.27.0)\nRequirement already satisfied: opentelemetry-sdk<3,>=1.9.0 in /anaconda/envs/jupyter_env/lib/python3.10/site-packages (from mlflow-skinny<=2.15.1->azureml-mlflow~=1.58.0->azureml-train-automl-runtime~=1.58.0->azureml-train-automl~=1.58.0->azureml-sdk[automl,explain,notebooks,train]) (1.27.0)\nRequirement already satisfied: sqlparse<1,>=0.4.0 in /anaconda/envs/jupyter_env/lib/python3.10/site-packages (from mlflow-skinny<=2.15.1->azureml-mlflow~=1.58.0->azureml-train-automl-runtime~=1.58.0->azureml-train-automl~=1.58.0->azureml-sdk[automl,explain,notebooks,train]) (0.5.1)\nRequirement already satisfied: argon2-cffi in /anaconda/envs/jupyter_env/lib/python3.10/site-packages (from notebook>=4.4.1->widgetsnbextension~=3.6.9->ipywidgets<8.0.0,>=7.0.0->azureml-widgets~=1.58.0->azureml-sdk[automl,explain,notebooks,train]) (23.1.0)\nRequirement already satisfied: Send2Trash>=1.8.0 in /anaconda/envs/jupyter_env/lib/python3.10/site-packages (from notebook>=4.4.1->widgetsnbextension~=3.6.9->ipywidgets<8.0.0,>=7.0.0->azureml-widgets~=1.58.0->azureml-sdk[automl,explain,notebooks,train]) (1.8.3)\nRequirement already satisfied: terminado>=0.8.3 in /anaconda/envs/jupyter_env/lib/python3.10/site-packages (from notebook>=4.4.1->widgetsnbextension~=3.6.9->ipywidgets<8.0.0,>=7.0.0->azureml-widgets~=1.58.0->azureml-sdk[automl,explain,notebooks,train]) (0.18.1)\nRequirement already satisfied: prometheus-client in /anaconda/envs/jupyter_env/lib/python3.10/site-packages (from notebook>=4.4.1->widgetsnbextension~=3.6.9->ipywidgets<8.0.0,>=7.0.0->azureml-widgets~=1.58.0->azureml-sdk[automl,explain,notebooks,train]) (0.21.0)\nRequirement already satisfied: nbclassic>=0.4.7 in /anaconda/envs/jupyter_env/lib/python3.10/site-packages (from notebook>=4.4.1->widgetsnbextension~=3.6.9->ipywidgets<8.0.0,>=7.0.0->azureml-widgets~=1.58.0->azureml-sdk[automl,explain,notebooks,train]) (1.1.0)\nRequirement already satisfied: slicer==0.0.7 in /anaconda/envs/jupyter_env/lib/python3.10/site-packages (from shap<=0.44.0,>=0.20.0->interpret-community==0.31.*->azureml-interpret~=1.58.0->azureml-explain-model~=1.58.0->azureml-sdk[automl,explain,notebooks,train]) (0.0.7)\nRequirement already satisfied: termcolor in /anaconda/envs/jupyter_env/lib/python3.10/site-packages (from fire->keras2onnx<=1.6.0,>=1.4.0->azureml-automl-runtime~=1.58.0->azureml-train-automl~=1.58.0->azureml-sdk[automl,explain,notebooks,train]) (2.5.0)\nRequirement already satisfied: mpmath<1.4,>=1.1.0 in /anaconda/envs/jupyter_env/lib/python3.10/site-packages (from sympy->onnxruntime~=1.17.3->azureml-automl-runtime~=1.58.0->azureml-train-automl~=1.58.0->azureml-sdk[automl,explain,notebooks,train]) (1.3.0)\nRequirement already satisfied: google-auth~=2.0 in /anaconda/envs/jupyter_env/lib/python3.10/site-packages (from databricks-sdk<1,>=0.20.0->mlflow-skinny<=2.15.1->azureml-mlflow~=1.58.0->azureml-train-automl-runtime~=1.58.0->azureml-train-automl~=1.58.0->azureml-sdk[automl,explain,notebooks,train]) (2.35.0)\nRequirement already satisfied: gitdb<5,>=4.0.1 in /anaconda/envs/jupyter_env/lib/python3.10/site-packages (from gitpython<4,>=3.1.9->mlflow-skinny<=2.15.1->azureml-mlflow~=1.58.0->azureml-train-automl-runtime~=1.58.0->azureml-train-automl~=1.58.0->azureml-sdk[automl,explain,notebooks,train]) (4.0.11)\nRequirement already satisfied: notebook-shim>=0.2.3 in /anaconda/envs/jupyter_env/lib/python3.10/site-packages (from nbclassic>=0.4.7->notebook>=4.4.1->widgetsnbextension~=3.6.9->ipywidgets<8.0.0,>=7.0.0->azureml-widgets~=1.58.0->azureml-sdk[automl,explain,notebooks,train]) (0.2.4)\nRequirement already satisfied: deprecated>=1.2.6 in /anaconda/envs/jupyter_env/lib/python3.10/site-packages (from opentelemetry-api<3,>=1.9.0->mlflow-skinny<=2.15.1->azureml-mlflow~=1.58.0->azureml-train-automl-runtime~=1.58.0->azureml-train-automl~=1.58.0->azureml-sdk[automl,explain,notebooks,train]) (1.2.14)\nRequirement already satisfied: opentelemetry-semantic-conventions==0.48b0 in /anaconda/envs/jupyter_env/lib/python3.10/site-packages (from opentelemetry-sdk<3,>=1.9.0->mlflow-skinny<=2.15.1->azureml-mlflow~=1.58.0->azureml-train-automl-runtime~=1.58.0->azureml-train-automl~=1.58.0->azureml-sdk[automl,explain,notebooks,train]) (0.48b0)\nRequirement already satisfied: argon2-cffi-bindings in /anaconda/envs/jupyter_env/lib/python3.10/site-packages (from argon2-cffi->notebook>=4.4.1->widgetsnbextension~=3.6.9->ipywidgets<8.0.0,>=7.0.0->azureml-widgets~=1.58.0->azureml-sdk[automl,explain,notebooks,train]) (21.2.0)\nRequirement already satisfied: wrapt<2,>=1.10 in /anaconda/envs/jupyter_env/lib/python3.10/site-packages (from deprecated>=1.2.6->opentelemetry-api<3,>=1.9.0->mlflow-skinny<=2.15.1->azureml-mlflow~=1.58.0->azureml-train-automl-runtime~=1.58.0->azureml-train-automl~=1.58.0->azureml-sdk[automl,explain,notebooks,train]) (1.16.0)\nRequirement already satisfied: smmap<6,>=3.0.1 in /anaconda/envs/jupyter_env/lib/python3.10/site-packages (from gitdb<5,>=4.0.1->gitpython<4,>=3.1.9->mlflow-skinny<=2.15.1->azureml-mlflow~=1.58.0->azureml-train-automl-runtime~=1.58.0->azureml-train-automl~=1.58.0->azureml-sdk[automl,explain,notebooks,train]) (5.0.1)\nRequirement already satisfied: pyasn1-modules>=0.2.1 in /anaconda/envs/jupyter_env/lib/python3.10/site-packages (from google-auth~=2.0->databricks-sdk<1,>=0.20.0->mlflow-skinny<=2.15.1->azureml-mlflow~=1.58.0->azureml-train-automl-runtime~=1.58.0->azureml-train-automl~=1.58.0->azureml-sdk[automl,explain,notebooks,train]) (0.4.1)\nRequirement already satisfied: rsa<5,>=3.1.4 in /anaconda/envs/jupyter_env/lib/python3.10/site-packages (from google-auth~=2.0->databricks-sdk<1,>=0.20.0->mlflow-skinny<=2.15.1->azureml-mlflow~=1.58.0->azureml-train-automl-runtime~=1.58.0->azureml-train-automl~=1.58.0->azureml-sdk[automl,explain,notebooks,train]) (4.9)\nRequirement already satisfied: jupyter-server<3,>=1.8 in /anaconda/envs/jupyter_env/lib/python3.10/site-packages (from notebook-shim>=0.2.3->nbclassic>=0.4.7->notebook>=4.4.1->widgetsnbextension~=3.6.9->ipywidgets<8.0.0,>=7.0.0->azureml-widgets~=1.58.0->azureml-sdk[automl,explain,notebooks,train]) (2.14.2)\nRequirement already satisfied: anyio>=3.1.0 in /anaconda/envs/jupyter_env/lib/python3.10/site-packages (from jupyter-server<3,>=1.8->notebook-shim>=0.2.3->nbclassic>=0.4.7->notebook>=4.4.1->widgetsnbextension~=3.6.9->ipywidgets<8.0.0,>=7.0.0->azureml-widgets~=1.58.0->azureml-sdk[automl,explain,notebooks,train]) (3.7.1)\nRequirement already satisfied: jupyter-events>=0.9.0 in /anaconda/envs/jupyter_env/lib/python3.10/site-packages (from jupyter-server<3,>=1.8->notebook-shim>=0.2.3->nbclassic>=0.4.7->notebook>=4.4.1->widgetsnbextension~=3.6.9->ipywidgets<8.0.0,>=7.0.0->azureml-widgets~=1.58.0->azureml-sdk[automl,explain,notebooks,train]) (0.10.0)\nRequirement already satisfied: jupyter-server-terminals>=0.4.4 in /anaconda/envs/jupyter_env/lib/python3.10/site-packages (from jupyter-server<3,>=1.8->notebook-shim>=0.2.3->nbclassic>=0.4.7->notebook>=4.4.1->widgetsnbextension~=3.6.9->ipywidgets<8.0.0,>=7.0.0->azureml-widgets~=1.58.0->azureml-sdk[automl,explain,notebooks,train]) (0.5.3)\nRequirement already satisfied: overrides>=5.0 in /anaconda/envs/jupyter_env/lib/python3.10/site-packages (from jupyter-server<3,>=1.8->notebook-shim>=0.2.3->nbclassic>=0.4.7->notebook>=4.4.1->widgetsnbextension~=3.6.9->ipywidgets<8.0.0,>=7.0.0->azureml-widgets~=1.58.0->azureml-sdk[automl,explain,notebooks,train]) (7.7.0)\nRequirement already satisfied: websocket-client>=1.7 in /anaconda/envs/jupyter_env/lib/python3.10/site-packages (from jupyter-server<3,>=1.8->notebook-shim>=0.2.3->nbclassic>=0.4.7->notebook>=4.4.1->widgetsnbextension~=3.6.9->ipywidgets<8.0.0,>=7.0.0->azureml-widgets~=1.58.0->azureml-sdk[automl,explain,notebooks,train]) (1.8.0)\nRequirement already satisfied: sniffio>=1.1 in /anaconda/envs/jupyter_env/lib/python3.10/site-packages (from anyio>=3.1.0->jupyter-server<3,>=1.8->notebook-shim>=0.2.3->nbclassic>=0.4.7->notebook>=4.4.1->widgetsnbextension~=3.6.9->ipywidgets<8.0.0,>=7.0.0->azureml-widgets~=1.58.0->azureml-sdk[automl,explain,notebooks,train]) (1.3.1)\nRequirement already satisfied: python-json-logger>=2.0.4 in /anaconda/envs/jupyter_env/lib/python3.10/site-packages (from jupyter-events>=0.9.0->jupyter-server<3,>=1.8->notebook-shim>=0.2.3->nbclassic>=0.4.7->notebook>=4.4.1->widgetsnbextension~=3.6.9->ipywidgets<8.0.0,>=7.0.0->azureml-widgets~=1.58.0->azureml-sdk[automl,explain,notebooks,train]) (2.0.7)\nRequirement already satisfied: rfc3339-validator in /anaconda/envs/jupyter_env/lib/python3.10/site-packages (from jupyter-events>=0.9.0->jupyter-server<3,>=1.8->notebook-shim>=0.2.3->nbclassic>=0.4.7->notebook>=4.4.1->widgetsnbextension~=3.6.9->ipywidgets<8.0.0,>=7.0.0->azureml-widgets~=1.58.0->azureml-sdk[automl,explain,notebooks,train]) (0.1.4)\nRequirement already satisfied: rfc3986-validator>=0.1.1 in /anaconda/envs/jupyter_env/lib/python3.10/site-packages (from jupyter-events>=0.9.0->jupyter-server<3,>=1.8->notebook-shim>=0.2.3->nbclassic>=0.4.7->notebook>=4.4.1->widgetsnbextension~=3.6.9->ipywidgets<8.0.0,>=7.0.0->azureml-widgets~=1.58.0->azureml-sdk[automl,explain,notebooks,train]) (0.1.1)\nRequirement already satisfied: fqdn in /anaconda/envs/jupyter_env/lib/python3.10/site-packages (from jsonschema[format-nongpl]>=4.18.0->jupyter-events>=0.9.0->jupyter-server<3,>=1.8->notebook-shim>=0.2.3->nbclassic>=0.4.7->notebook>=4.4.1->widgetsnbextension~=3.6.9->ipywidgets<8.0.0,>=7.0.0->azureml-widgets~=1.58.0->azureml-sdk[automl,explain,notebooks,train]) (1.5.1)\nRequirement already satisfied: isoduration in /anaconda/envs/jupyter_env/lib/python3.10/site-packages (from jsonschema[format-nongpl]>=4.18.0->jupyter-events>=0.9.0->jupyter-server<3,>=1.8->notebook-shim>=0.2.3->nbclassic>=0.4.7->notebook>=4.4.1->widgetsnbextension~=3.6.9->ipywidgets<8.0.0,>=7.0.0->azureml-widgets~=1.58.0->azureml-sdk[automl,explain,notebooks,train]) (20.11.0)\nRequirement already satisfied: jsonpointer>1.13 in /anaconda/envs/jupyter_env/lib/python3.10/site-packages (from jsonschema[format-nongpl]>=4.18.0->jupyter-events>=0.9.0->jupyter-server<3,>=1.8->notebook-shim>=0.2.3->nbclassic>=0.4.7->notebook>=4.4.1->widgetsnbextension~=3.6.9->ipywidgets<8.0.0,>=7.0.0->azureml-widgets~=1.58.0->azureml-sdk[automl,explain,notebooks,train]) (3.0.0)\nRequirement already satisfied: uri-template in /anaconda/envs/jupyter_env/lib/python3.10/site-packages (from jsonschema[format-nongpl]>=4.18.0->jupyter-events>=0.9.0->jupyter-server<3,>=1.8->notebook-shim>=0.2.3->nbclassic>=0.4.7->notebook>=4.4.1->widgetsnbextension~=3.6.9->ipywidgets<8.0.0,>=7.0.0->azureml-widgets~=1.58.0->azureml-sdk[automl,explain,notebooks,train]) (1.3.0)\nRequirement already satisfied: webcolors>=24.6.0 in /anaconda/envs/jupyter_env/lib/python3.10/site-packages (from jsonschema[format-nongpl]>=4.18.0->jupyter-events>=0.9.0->jupyter-server<3,>=1.8->notebook-shim>=0.2.3->nbclassic>=0.4.7->notebook>=4.4.1->widgetsnbextension~=3.6.9->ipywidgets<8.0.0,>=7.0.0->azureml-widgets~=1.58.0->azureml-sdk[automl,explain,notebooks,train]) (24.8.0)\nRequirement already satisfied: arrow>=0.15.0 in /anaconda/envs/jupyter_env/lib/python3.10/site-packages (from isoduration->jsonschema[format-nongpl]>=4.18.0->jupyter-events>=0.9.0->jupyter-server<3,>=1.8->notebook-shim>=0.2.3->nbclassic>=0.4.7->notebook>=4.4.1->widgetsnbextension~=3.6.9->ipywidgets<8.0.0,>=7.0.0->azureml-widgets~=1.58.0->azureml-sdk[automl,explain,notebooks,train]) (1.3.0)\nRequirement already satisfied: types-python-dateutil>=2.8.10 in /anaconda/envs/jupyter_env/lib/python3.10/site-packages (from arrow>=0.15.0->isoduration->jsonschema[format-nongpl]>=4.18.0->jupyter-events>=0.9.0->jupyter-server<3,>=1.8->notebook-shim>=0.2.3->nbclassic>=0.4.7->notebook>=4.4.1->widgetsnbextension~=3.6.9->ipywidgets<8.0.0,>=7.0.0->azureml-widgets~=1.58.0->azureml-sdk[automl,explain,notebooks,train]) (2.9.0.20240906)\nUsing cached numpy-1.23.5-cp310-cp310-manylinux_2_17_x86_64.manylinux2014_x86_64.whl (17.1 MB)\nUsing cached numba-0.56.4-cp310-cp310-manylinux2014_x86_64.manylinux_2_17_x86_64.whl (3.5 MB)\nUsing cached llvmlite-0.39.1-cp310-cp310-manylinux_2_17_x86_64.manylinux2014_x86_64.whl (34.6 MB)\nInstalling collected packages: numpy, llvmlite, numba\n  Attempting uninstall: numpy\n    Found existing installation: numpy 1.24.3\n    Uninstalling numpy-1.24.3:\n      Successfully uninstalled numpy-1.24.3\n  Attempting uninstall: llvmlite\n    Found existing installation: llvmlite 0.43.0\n    Uninstalling llvmlite-0.43.0:\n      Successfully uninstalled llvmlite-0.43.0\n  Attempting uninstall: numba\n    Found existing installation: numba 0.60.0\n    Uninstalling numba-0.60.0:\n      Successfully uninstalled numba-0.60.0\n\u001b[31mERROR: pip's dependency resolver does not currently take into account all the packages that are installed. This behaviour is the source of the following dependency conflicts.\nscikit-image 0.24.0 requires networkx>=2.8, but you have networkx 2.5 which is incompatible.\u001b[0m\u001b[31m\n\u001b[0mSuccessfully installed llvmlite-0.39.1 numba-0.56.4 numpy-1.23.5\nNote: you may need to restart the kernel to use updated packages.\n"
        }
      ],
      "execution_count": 4,
      "metadata": {
        "jupyter": {
          "source_hidden": false,
          "outputs_hidden": false
        },
        "nteract": {
          "transient": {
            "deleting": false
          }
        },
        "gather": {
          "logged": 1730651762505
        }
      }
    },
    {
      "cell_type": "code",
      "source": [
        "import logging\n",
        "import os\n",
        "import csv\n",
        "\n",
        "from matplotlib import pyplot as plt\n",
        "import numpy as np\n",
        "import pandas as pd\n",
        "from sklearn import datasets\n",
        "import pkg_resources\n",
        "\n",
        "import azureml.core\n",
        "from azureml.core.experiment import Experiment\n",
        "from azureml.core.workspace import Workspace\n",
        "from azureml.train.automl import AutoMLConfig\n",
        "from azureml.core.dataset import Dataset\n",
        "\n",
        "from azureml.pipeline.steps import AutoMLStep\n",
        "\n",
        "# Check core SDK version number\n",
        "print(\"SDK version:\", azureml.core.VERSION)"
      ],
      "outputs": [
        {
          "output_type": "stream",
          "name": "stdout",
          "text": "SDK version: 1.58.0\n"
        }
      ],
      "execution_count": 5,
      "metadata": {
        "gather": {
          "logged": 1730651764164
        }
      }
    },
    {
      "cell_type": "markdown",
      "source": [
        "## Initialize Workspace\n",
        "Initialize a workspace object from persisted configuration. Make sure the config file is present at .\\config.json"
      ],
      "metadata": {}
    },
    {
      "cell_type": "code",
      "source": [
        "ws = Workspace.from_config()\n",
        "print(ws.name, ws.resource_group, ws.location, ws.subscription_id, sep = '\\n')"
      ],
      "outputs": [
        {
          "output_type": "stream",
          "name": "stdout",
          "text": "quick-starts-ws-269448\naml-quickstarts-269448\nwestus2\n61c5c3f0-6dc7-4ed9-a7f3-c704b20e3b30\n"
        }
      ],
      "execution_count": 6,
      "metadata": {
        "gather": {
          "logged": 1730651764632
        }
      }
    },
    {
      "cell_type": "markdown",
      "source": [
        "## Create an Azure ML experiment\n",
        "Let's create an experiment named \"automlstep-classification\" and a folder to hold the training scripts. The script runs will be recorded under the experiment in Azure.\n",
        "\n",
        "The best practice is to use separate folders for scripts and its dependent files for each step and specify that folder as the `source_directory` for the step. This helps reduce the size of the snapshot created for the step (only the specific folder is snapshotted). Since changes in any files in the `source_directory` would trigger a re-upload of the snapshot, this helps keep the reuse of the step when there are no changes in the `source_directory` of the step.\n",
        "\n",
        "*Udacity Note:* There is no need to create an Azure ML experiment, this needs to re-use the experiment that was already created\n"
      ],
      "metadata": {}
    },
    {
      "cell_type": "code",
      "source": [
        "# Choose a name for the run history container in the workspace.\n",
        "# NOTE: update these to match your existing experiment name\n",
        "experiment_name = 'azmlproject2'\n",
        "project_folder = './pipeline-project'\n",
        "\n",
        "experiment = Experiment(ws, experiment_name)\n",
        "experiment"
      ],
      "outputs": [
        {
          "output_type": "execute_result",
          "execution_count": 7,
          "data": {
            "text/plain": "Experiment(Name: azmlproject2,\nWorkspace: quick-starts-ws-269448)",
            "text/html": "<table style=\"width:100%\"><tr><th>Name</th><th>Workspace</th><th>Report Page</th><th>Docs Page</th></tr><tr><td>azmlproject2</td><td>quick-starts-ws-269448</td><td><a href=\"https://ml.azure.com/experiments/id/0e7977a5-b0fa-43fb-a780-195ad9b375e5?wsid=/subscriptions/61c5c3f0-6dc7-4ed9-a7f3-c704b20e3b30/resourcegroups/aml-quickstarts-269448/workspaces/quick-starts-ws-269448&amp;tid=660b3398-b80e-49d2-bc5b-ac1dc93b5254\" target=\"_blank\" rel=\"noopener\">Link to Azure Machine Learning studio</a></td><td><a href=\"https://docs.microsoft.com/en-us/python/api/azureml-core/azureml.core.experiment.Experiment?view=azure-ml-py\" target=\"_blank\" rel=\"noopener\">Link to Documentation</a></td></tr></table>"
          },
          "metadata": {}
        }
      ],
      "execution_count": 7,
      "metadata": {
        "gather": {
          "logged": 1730651765035
        }
      }
    },
    {
      "cell_type": "markdown",
      "source": [
        "### Create or Attach an AmlCompute cluster\n",
        "You will need to create a [compute target](https://docs.microsoft.com/azure/machine-learning/service/concept-azure-machine-learning-architecture#compute-target) for your AutoML run. In this tutorial, you get the default `AmlCompute` as your training compute resource.\n",
        "\n",
        "**Udacity Note** There is no need to create a new compute target, it can re-use the previous cluster"
      ],
      "metadata": {}
    },
    {
      "cell_type": "code",
      "source": [
        "from azureml.core.compute import AmlCompute\n",
        "from azureml.core.compute import ComputeTarget\n",
        "from azureml.core.compute_target import ComputeTargetException\n",
        "\n",
        "# NOTE: update the cluster name to match the existing cluster\n",
        "# Choose a name for your CPU cluster\n",
        "amlcompute_cluster_name = \"azmlproject22\"\n",
        "\n",
        "# Verify that cluster does not exist already\n",
        "try:\n",
        "    compute_target = ComputeTarget(workspace=ws, name=amlcompute_cluster_name)\n",
        "    print('Found existing cluster, use it.')\n",
        "except ComputeTargetException:\n",
        "    compute_config = AmlCompute.provisioning_configuration(vm_size='STANDARD_D2_V2',# for GPU, use \"STANDARD_NC6\"\n",
        "                                                           #vm_priority = 'lowpriority', # optional\n",
        "                                                           max_nodes=4)\n",
        "    compute_target = ComputeTarget.create(ws, amlcompute_cluster_name, compute_config)\n",
        "\n",
        "#compute_target.wait_for_completion(show_output=True, min_node_count = 1, timeout_in_minutes = 10)\n",
        "# For a more detailed view of current AmlCompute status, use get_status()."
      ],
      "outputs": [
        {
          "output_type": "stream",
          "name": "stdout",
          "text": "Found existing cluster, use it.\n"
        }
      ],
      "execution_count": 8,
      "metadata": {
        "gather": {
          "logged": 1730651765499
        }
      }
    },
    {
      "cell_type": "markdown",
      "source": [
        "## Data\n",
        "\n",
        "**Udacity note:** Make sure the `key` is the same name as the dataset that is uploaded, and that the description matches. If it is hard to find or unknown, loop over the `ws.datasets.keys()` and `print()` them.\n",
        "If it *isn't* found because it was deleted, it can be recreated with the link that has the CSV "
      ],
      "metadata": {}
    },
    {
      "cell_type": "code",
      "source": [
        "pip install --upgrade azureml-sdk azureml-dataprep\n"
      ],
      "outputs": [
        {
          "output_type": "stream",
          "name": "stdout",
          "text": "Requirement already satisfied: azureml-sdk in /anaconda/envs/jupyter_env/lib/python3.10/site-packages (1.58.0)\nRequirement already satisfied: azureml-dataprep in /anaconda/envs/jupyter_env/lib/python3.10/site-packages (5.1.6)\nCollecting azureml-dataprep\n  Using cached azureml_dataprep-5.3.0-py3-none-any.whl.metadata (2.0 kB)\nRequirement already satisfied: azureml-core~=1.58.0 in /anaconda/envs/jupyter_env/lib/python3.10/site-packages (from azureml-sdk) (1.58.0)\nRequirement already satisfied: azureml-dataset-runtime~=1.58.0 in /anaconda/envs/jupyter_env/lib/python3.10/site-packages (from azureml-dataset-runtime[fuse]~=1.58.0->azureml-sdk) (1.58.0)\nRequirement already satisfied: azureml-train-core~=1.58.0 in /anaconda/envs/jupyter_env/lib/python3.10/site-packages (from azureml-sdk) (1.58.0)\nRequirement already satisfied: azureml-train-automl-client~=1.58.0 in /anaconda/envs/jupyter_env/lib/python3.10/site-packages (from azureml-sdk) (1.58.0)\nRequirement already satisfied: azureml-pipeline~=1.58.0 in /anaconda/envs/jupyter_env/lib/python3.10/site-packages (from azureml-sdk) (1.58.0)\nRequirement already satisfied: azureml-dataprep-native<42.0.0,>=41.0.0 in /anaconda/envs/jupyter_env/lib/python3.10/site-packages (from azureml-dataprep) (41.0.0)\nRequirement already satisfied: azureml-dataprep-rslex~=2.22.0dev0 in /anaconda/envs/jupyter_env/lib/python3.10/site-packages (from azureml-dataprep) (2.22.4)\nRequirement already satisfied: cloudpickle<3.0.0,>=1.1.0 in /anaconda/envs/jupyter_env/lib/python3.10/site-packages (from azureml-dataprep) (2.2.1)\nRequirement already satisfied: azure-identity>=1.16.0 in /anaconda/envs/jupyter_env/lib/python3.10/site-packages (from azureml-dataprep) (1.19.0)\nRequirement already satisfied: jsonschema in /anaconda/envs/jupyter_env/lib/python3.10/site-packages (from azureml-dataprep) (4.23.0)\nRequirement already satisfied: pyyaml<7.0.0,>=5.1.0 in /anaconda/envs/jupyter_env/lib/python3.10/site-packages (from azureml-dataprep) (6.0.2)\nRequirement already satisfied: azure-core>=1.31.0 in /anaconda/envs/jupyter_env/lib/python3.10/site-packages (from azure-identity>=1.16.0->azureml-dataprep) (1.31.0)\nRequirement already satisfied: cryptography>=2.5 in /anaconda/envs/jupyter_env/lib/python3.10/site-packages (from azure-identity>=1.16.0->azureml-dataprep) (43.0.1)\nRequirement already satisfied: msal>=1.30.0 in /anaconda/envs/jupyter_env/lib/python3.10/site-packages (from azure-identity>=1.16.0->azureml-dataprep) (1.31.0)\nRequirement already satisfied: msal-extensions>=1.2.0 in /anaconda/envs/jupyter_env/lib/python3.10/site-packages (from azure-identity>=1.16.0->azureml-dataprep) (1.2.0)\nRequirement already satisfied: typing-extensions>=4.0.0 in /anaconda/envs/jupyter_env/lib/python3.10/site-packages (from azure-identity>=1.16.0->azureml-dataprep) (4.12.2)\nRequirement already satisfied: pytz in /anaconda/envs/jupyter_env/lib/python3.10/site-packages (from azureml-core~=1.58.0->azureml-sdk) (2024.2)\nRequirement already satisfied: backports.tempfile in /anaconda/envs/jupyter_env/lib/python3.10/site-packages (from azureml-core~=1.58.0->azureml-sdk) (1.0)\nRequirement already satisfied: pathspec<1.0.0 in /anaconda/envs/jupyter_env/lib/python3.10/site-packages (from azureml-core~=1.58.0->azureml-sdk) (0.12.1)\nRequirement already satisfied: requests<3.0.0,>=2.19.1 in /anaconda/envs/jupyter_env/lib/python3.10/site-packages (from requests[socks]<3.0.0,>=2.19.1->azureml-core~=1.58.0->azureml-sdk) (2.32.3)\nRequirement already satisfied: knack<0.13.0 in /anaconda/envs/jupyter_env/lib/python3.10/site-packages (from azureml-core~=1.58.0->azureml-sdk) (0.11.0)\nRequirement already satisfied: pkginfo in /anaconda/envs/jupyter_env/lib/python3.10/site-packages (from azureml-core~=1.58.0->azureml-sdk) (1.11.1)\nRequirement already satisfied: argcomplete<4 in /anaconda/envs/jupyter_env/lib/python3.10/site-packages (from azureml-core~=1.58.0->azureml-sdk) (3.5.0)\nRequirement already satisfied: humanfriendly<11.0,>=4.7 in /anaconda/envs/jupyter_env/lib/python3.10/site-packages (from azureml-core~=1.58.0->azureml-sdk) (10.0)\nRequirement already satisfied: paramiko<4.0.0,>=2.0.8 in /anaconda/envs/jupyter_env/lib/python3.10/site-packages (from azureml-core~=1.58.0->azureml-sdk) (3.5.0)\nRequirement already satisfied: azure-mgmt-resource<=24.0.0,>=15.0.0 in /anaconda/envs/jupyter_env/lib/python3.10/site-packages (from azureml-core~=1.58.0->azureml-sdk) (23.1.1)\nRequirement already satisfied: azure-mgmt-containerregistry<11,>=8.2.0 in /anaconda/envs/jupyter_env/lib/python3.10/site-packages (from azureml-core~=1.58.0->azureml-sdk) (10.3.0)\nRequirement already satisfied: azure-mgmt-storage<=22.0.0,>=16.0.0 in /anaconda/envs/jupyter_env/lib/python3.10/site-packages (from azureml-core~=1.58.0->azureml-sdk) (21.2.1)\nRequirement already satisfied: azure-mgmt-keyvault<11.0.0,>=0.40.0 in /anaconda/envs/jupyter_env/lib/python3.10/site-packages (from azureml-core~=1.58.0->azureml-sdk) (10.3.1)\nRequirement already satisfied: azure-mgmt-authorization<5,>=0.40.0 in /anaconda/envs/jupyter_env/lib/python3.10/site-packages (from azureml-core~=1.58.0->azureml-sdk) (4.0.0)\nRequirement already satisfied: azure-mgmt-network<=28.0.0 in /anaconda/envs/jupyter_env/lib/python3.10/site-packages (from azureml-core~=1.58.0->azureml-sdk) (26.0.0)\nRequirement already satisfied: azure-graphrbac<1.0.0,>=0.40.0 in /anaconda/envs/jupyter_env/lib/python3.10/site-packages (from azureml-core~=1.58.0->azureml-sdk) (0.61.1)\nRequirement already satisfied: azure-common<2.0.0,>=1.1.12 in /anaconda/envs/jupyter_env/lib/python3.10/site-packages (from azureml-core~=1.58.0->azureml-sdk) (1.1.28)\nRequirement already satisfied: msrest<=0.7.1,>=0.5.1 in /anaconda/envs/jupyter_env/lib/python3.10/site-packages (from azureml-core~=1.58.0->azureml-sdk) (0.7.1)\nRequirement already satisfied: msrestazure<=0.7,>=0.4.33 in /anaconda/envs/jupyter_env/lib/python3.10/site-packages (from azureml-core~=1.58.0->azureml-sdk) (0.6.4.post1)\nRequirement already satisfied: urllib3<3.0.0,>1.26.17 in /anaconda/envs/jupyter_env/lib/python3.10/site-packages (from azureml-core~=1.58.0->azureml-sdk) (1.26.20)\nRequirement already satisfied: packaging<=25.0,>=20.0 in /anaconda/envs/jupyter_env/lib/python3.10/site-packages (from azureml-core~=1.58.0->azureml-sdk) (24.1)\nRequirement already satisfied: python-dateutil<3.0.0,>=2.7.3 in /anaconda/envs/jupyter_env/lib/python3.10/site-packages (from azureml-core~=1.58.0->azureml-sdk) (2.9.0)\nRequirement already satisfied: ndg-httpsclient<=0.5.1 in /anaconda/envs/jupyter_env/lib/python3.10/site-packages (from azureml-core~=1.58.0->azureml-sdk) (0.5.1)\nRequirement already satisfied: SecretStorage<4.0.0 in /anaconda/envs/jupyter_env/lib/python3.10/site-packages (from azureml-core~=1.58.0->azureml-sdk) (3.3.3)\nRequirement already satisfied: jsonpickle<4.0.0 in /anaconda/envs/jupyter_env/lib/python3.10/site-packages (from azureml-core~=1.58.0->azureml-sdk) (3.3.0)\nRequirement already satisfied: contextlib2<22.0.0 in /anaconda/envs/jupyter_env/lib/python3.10/site-packages (from azureml-core~=1.58.0->azureml-sdk) (21.6.0)\nRequirement already satisfied: docker<8.0.0 in /anaconda/envs/jupyter_env/lib/python3.10/site-packages (from azureml-core~=1.58.0->azureml-sdk) (7.1.0)\nRequirement already satisfied: PyJWT<3.0.0 in /anaconda/envs/jupyter_env/lib/python3.10/site-packages (from azureml-core~=1.58.0->azureml-sdk) (2.9.0)\nRequirement already satisfied: adal<=1.2.7,>=1.2.0 in /anaconda/envs/jupyter_env/lib/python3.10/site-packages (from azureml-core~=1.58.0->azureml-sdk) (1.2.7)\nRequirement already satisfied: pyopenssl<25.0.0 in /anaconda/envs/jupyter_env/lib/python3.10/site-packages (from azureml-core~=1.58.0->azureml-sdk) (24.2.1)\nRequirement already satisfied: jmespath<2.0.0 in /anaconda/envs/jupyter_env/lib/python3.10/site-packages (from azureml-core~=1.58.0->azureml-sdk) (0.10.0)\nRequirement already satisfied: pyarrow>=0.17.0 in /anaconda/envs/jupyter_env/lib/python3.10/site-packages (from azureml-dataset-runtime~=1.58.0->azureml-dataset-runtime[fuse]~=1.58.0->azureml-sdk) (14.0.2)\nRequirement already satisfied: numpy!=1.19.3,<1.24 in /anaconda/envs/jupyter_env/lib/python3.10/site-packages (from azureml-dataset-runtime~=1.58.0->azureml-dataset-runtime[fuse]~=1.58.0->azureml-sdk) (1.23.5)\nRequirement already satisfied: fusepy<4.0.0,>=3.0.1 in /anaconda/envs/jupyter_env/lib/python3.10/site-packages (from azureml-dataset-runtime[fuse]~=1.58.0->azureml-sdk) (3.0.1)\nRequirement already satisfied: azureml-pipeline-core~=1.58.0 in /anaconda/envs/jupyter_env/lib/python3.10/site-packages (from azureml-pipeline~=1.58.0->azureml-sdk) (1.58.0)\nRequirement already satisfied: azureml-pipeline-steps~=1.58.0 in /anaconda/envs/jupyter_env/lib/python3.10/site-packages (from azureml-pipeline~=1.58.0->azureml-sdk) (1.58.0)\nRequirement already satisfied: azureml-automl-core~=1.58.0 in /anaconda/envs/jupyter_env/lib/python3.10/site-packages (from azureml-train-automl-client~=1.58.0->azureml-sdk) (1.58.0)\nRequirement already satisfied: azureml-telemetry~=1.58.0 in /anaconda/envs/jupyter_env/lib/python3.10/site-packages (from azureml-train-automl-client~=1.58.0->azureml-sdk) (1.58.0)\nRequirement already satisfied: azureml-train-restclients-hyperdrive~=1.58.0 in /anaconda/envs/jupyter_env/lib/python3.10/site-packages (from azureml-train-core~=1.58.0->azureml-sdk) (1.58.0)\nRequirement already satisfied: attrs>=22.2.0 in /anaconda/envs/jupyter_env/lib/python3.10/site-packages (from jsonschema->azureml-dataprep) (24.2.0)\nRequirement already satisfied: jsonschema-specifications>=2023.03.6 in /anaconda/envs/jupyter_env/lib/python3.10/site-packages (from jsonschema->azureml-dataprep) (2023.12.1)\nRequirement already satisfied: referencing>=0.28.4 in /anaconda/envs/jupyter_env/lib/python3.10/site-packages (from jsonschema->azureml-dataprep) (0.35.1)\nRequirement already satisfied: rpds-py>=0.7.1 in /anaconda/envs/jupyter_env/lib/python3.10/site-packages (from jsonschema->azureml-dataprep) (0.20.0)\nRequirement already satisfied: six>=1.11.0 in /anaconda/envs/jupyter_env/lib/python3.10/site-packages (from azure-core>=1.31.0->azure-identity>=1.16.0->azureml-dataprep) (1.16.0)\nRequirement already satisfied: isodate<1.0.0,>=0.6.1 in /anaconda/envs/jupyter_env/lib/python3.10/site-packages (from azure-mgmt-authorization<5,>=0.40.0->azureml-core~=1.58.0->azureml-sdk) (0.6.1)\nRequirement already satisfied: azure-mgmt-core<2.0.0,>=1.3.2 in /anaconda/envs/jupyter_env/lib/python3.10/site-packages (from azure-mgmt-authorization<5,>=0.40.0->azureml-core~=1.58.0->azureml-sdk) (1.4.0)\nRequirement already satisfied: importlib-metadata<=8.2.0 in /anaconda/envs/jupyter_env/lib/python3.10/site-packages (from azureml-automl-core~=1.58.0->azureml-train-automl-client~=1.58.0->azureml-sdk) (7.2.1)\nRequirement already satisfied: importlib-resources<=6.4.0 in /anaconda/envs/jupyter_env/lib/python3.10/site-packages (from azureml-automl-core~=1.58.0->azureml-train-automl-client~=1.58.0->azureml-sdk) (6.4.0)\nRequirement already satisfied: applicationinsights in /anaconda/envs/jupyter_env/lib/python3.10/site-packages (from azureml-telemetry~=1.58.0->azureml-train-automl-client~=1.58.0->azureml-sdk) (0.11.10)\nRequirement already satisfied: cffi>=1.12 in /anaconda/envs/jupyter_env/lib/python3.10/site-packages (from cryptography>=2.5->azure-identity>=1.16.0->azureml-dataprep) (1.17.1)\nRequirement already satisfied: pygments in /anaconda/envs/jupyter_env/lib/python3.10/site-packages (from knack<0.13.0->azureml-core~=1.58.0->azureml-sdk) (2.18.0)\nRequirement already satisfied: tabulate in /anaconda/envs/jupyter_env/lib/python3.10/site-packages (from knack<0.13.0->azureml-core~=1.58.0->azureml-sdk) (0.9.0)\nRequirement already satisfied: portalocker<3,>=1.4 in /anaconda/envs/jupyter_env/lib/python3.10/site-packages (from msal-extensions>=1.2.0->azure-identity>=1.16.0->azureml-dataprep) (2.10.1)\nRequirement already satisfied: certifi>=2017.4.17 in /anaconda/envs/jupyter_env/lib/python3.10/site-packages (from msrest<=0.7.1,>=0.5.1->azureml-core~=1.58.0->azureml-sdk) (2024.8.30)\nRequirement already satisfied: requests-oauthlib>=0.5.0 in /anaconda/envs/jupyter_env/lib/python3.10/site-packages (from msrest<=0.7.1,>=0.5.1->azureml-core~=1.58.0->azureml-sdk) (2.0.0)\nRequirement already satisfied: pyasn1>=0.1.1 in /anaconda/envs/jupyter_env/lib/python3.10/site-packages (from ndg-httpsclient<=0.5.1->azureml-core~=1.58.0->azureml-sdk) (0.6.1)\nRequirement already satisfied: bcrypt>=3.2 in /anaconda/envs/jupyter_env/lib/python3.10/site-packages (from paramiko<4.0.0,>=2.0.8->azureml-core~=1.58.0->azureml-sdk) (4.2.0)\nRequirement already satisfied: pynacl>=1.5 in /anaconda/envs/jupyter_env/lib/python3.10/site-packages (from paramiko<4.0.0,>=2.0.8->azureml-core~=1.58.0->azureml-sdk) (1.5.0)\nRequirement already satisfied: charset-normalizer<4,>=2 in /anaconda/envs/jupyter_env/lib/python3.10/site-packages (from requests<3.0.0,>=2.19.1->requests[socks]<3.0.0,>=2.19.1->azureml-core~=1.58.0->azureml-sdk) (3.3.2)\nRequirement already satisfied: idna<4,>=2.5 in /anaconda/envs/jupyter_env/lib/python3.10/site-packages (from requests<3.0.0,>=2.19.1->requests[socks]<3.0.0,>=2.19.1->azureml-core~=1.58.0->azureml-sdk) (3.10)\nRequirement already satisfied: PySocks!=1.5.7,>=1.5.6 in /anaconda/envs/jupyter_env/lib/python3.10/site-packages (from requests[socks]<3.0.0,>=2.19.1->azureml-core~=1.58.0->azureml-sdk) (1.7.1)\nRequirement already satisfied: jeepney>=0.6 in /anaconda/envs/jupyter_env/lib/python3.10/site-packages (from SecretStorage<4.0.0->azureml-core~=1.58.0->azureml-sdk) (0.8.0)\nRequirement already satisfied: backports.weakref in /anaconda/envs/jupyter_env/lib/python3.10/site-packages (from backports.tempfile->azureml-core~=1.58.0->azureml-sdk) (1.0.post1)\nRequirement already satisfied: pycparser in /anaconda/envs/jupyter_env/lib/python3.10/site-packages (from cffi>=1.12->cryptography>=2.5->azure-identity>=1.16.0->azureml-dataprep) (2.22)\nRequirement already satisfied: zipp>=0.5 in /anaconda/envs/jupyter_env/lib/python3.10/site-packages (from importlib-metadata<=8.2.0->azureml-automl-core~=1.58.0->azureml-train-automl-client~=1.58.0->azureml-sdk) (3.20.2)\nRequirement already satisfied: oauthlib>=3.0.0 in /anaconda/envs/jupyter_env/lib/python3.10/site-packages (from requests-oauthlib>=0.5.0->msrest<=0.7.1,>=0.5.1->azureml-core~=1.58.0->azureml-sdk) (3.2.2)\nNote: you may need to restart the kernel to use updated packages.\n"
        }
      ],
      "execution_count": 9,
      "metadata": {
        "jupyter": {
          "source_hidden": false,
          "outputs_hidden": false
        },
        "nteract": {
          "transient": {
            "deleting": false
          }
        },
        "gather": {
          "logged": 1730651767368
        }
      }
    },
    {
      "cell_type": "code",
      "source": [
        "# Try to load the dataset from the Workspace. Otherwise, create it from the file\n",
        "# NOTE: update the key to match the dataset name\n",
        "found = False\n",
        "key = \"bankmarketing\"\n",
        "description_text = \"Bank Marketing DataSet for Udacity Course 2\"\n",
        "\n",
        "if key in ws.datasets.keys(): \n",
        "        found = True\n",
        "        dataset = ws.datasets[key] \n",
        "\n",
        "if not found:\n",
        "        # Create AML Dataset and register it into Workspace\n",
        "        example_data = 'https://automlsamplenotebookdata.blob.core.windows.net/automl-sample-notebook-data/bankmarketing_train.csv'\n",
        "        dataset = Dataset.Tabular.from_delimited_files(example_data)        \n",
        "        #Register Dataset in Workspace\n",
        "        dataset = dataset.register(workspace=ws,\n",
        "                                   name=key,\n",
        "                                   description=description_text)\n",
        "\n",
        "\n",
        "df = dataset.to_pandas_dataframe()\n",
        "df.describe()"
      ],
      "outputs": [
        {
          "output_type": "stream",
          "name": "stdout",
          "text": "{'infer_column_types': 'False', 'activity': 'to_pandas_dataframe'}\n{'infer_column_types': 'False', 'activity': 'to_pandas_dataframe', 'activityApp': 'TabularDataset'}\n"
        },
        {
          "output_type": "execute_result",
          "execution_count": 10,
          "data": {
            "text/plain": "                age      duration      campaign         pdays      previous  \\\ncount  32950.000000  32950.000000  32950.000000  32950.000000  32950.000000   \nmean      40.040212    257.335205      2.561730    962.174780      0.174780   \nstd       10.432313    257.331700      2.763646    187.646785      0.496503   \nmin       17.000000      0.000000      1.000000      0.000000      0.000000   \n25%       32.000000    102.000000      1.000000    999.000000      0.000000   \n50%       38.000000    179.000000      2.000000    999.000000      0.000000   \n75%       47.000000    318.000000      3.000000    999.000000      0.000000   \nmax       98.000000   4918.000000     56.000000    999.000000      7.000000   \n\n       emp.var.rate  cons.price.idx  cons.conf.idx     euribor3m   nr.employed  \ncount  32950.000000    32950.000000   32950.000000  32950.000000  32950.000000  \nmean       0.076228       93.574243     -40.518680      3.615654   5166.859608  \nstd        1.572242        0.578636       4.623004      1.735748     72.208448  \nmin       -3.400000       92.201000     -50.800000      0.634000   4963.600000  \n25%       -1.800000       93.075000     -42.700000      1.344000   5099.100000  \n50%        1.100000       93.749000     -41.800000      4.857000   5191.000000  \n75%        1.400000       93.994000     -36.400000      4.961000   5228.100000  \nmax        1.400000       94.767000     -26.900000      5.045000   5228.100000  ",
            "text/html": "<div>\n<style scoped>\n    .dataframe tbody tr th:only-of-type {\n        vertical-align: middle;\n    }\n\n    .dataframe tbody tr th {\n        vertical-align: top;\n    }\n\n    .dataframe thead th {\n        text-align: right;\n    }\n</style>\n<table border=\"1\" class=\"dataframe\">\n  <thead>\n    <tr style=\"text-align: right;\">\n      <th></th>\n      <th>age</th>\n      <th>duration</th>\n      <th>campaign</th>\n      <th>pdays</th>\n      <th>previous</th>\n      <th>emp.var.rate</th>\n      <th>cons.price.idx</th>\n      <th>cons.conf.idx</th>\n      <th>euribor3m</th>\n      <th>nr.employed</th>\n    </tr>\n  </thead>\n  <tbody>\n    <tr>\n      <th>count</th>\n      <td>32950.000000</td>\n      <td>32950.000000</td>\n      <td>32950.000000</td>\n      <td>32950.000000</td>\n      <td>32950.000000</td>\n      <td>32950.000000</td>\n      <td>32950.000000</td>\n      <td>32950.000000</td>\n      <td>32950.000000</td>\n      <td>32950.000000</td>\n    </tr>\n    <tr>\n      <th>mean</th>\n      <td>40.040212</td>\n      <td>257.335205</td>\n      <td>2.561730</td>\n      <td>962.174780</td>\n      <td>0.174780</td>\n      <td>0.076228</td>\n      <td>93.574243</td>\n      <td>-40.518680</td>\n      <td>3.615654</td>\n      <td>5166.859608</td>\n    </tr>\n    <tr>\n      <th>std</th>\n      <td>10.432313</td>\n      <td>257.331700</td>\n      <td>2.763646</td>\n      <td>187.646785</td>\n      <td>0.496503</td>\n      <td>1.572242</td>\n      <td>0.578636</td>\n      <td>4.623004</td>\n      <td>1.735748</td>\n      <td>72.208448</td>\n    </tr>\n    <tr>\n      <th>min</th>\n      <td>17.000000</td>\n      <td>0.000000</td>\n      <td>1.000000</td>\n      <td>0.000000</td>\n      <td>0.000000</td>\n      <td>-3.400000</td>\n      <td>92.201000</td>\n      <td>-50.800000</td>\n      <td>0.634000</td>\n      <td>4963.600000</td>\n    </tr>\n    <tr>\n      <th>25%</th>\n      <td>32.000000</td>\n      <td>102.000000</td>\n      <td>1.000000</td>\n      <td>999.000000</td>\n      <td>0.000000</td>\n      <td>-1.800000</td>\n      <td>93.075000</td>\n      <td>-42.700000</td>\n      <td>1.344000</td>\n      <td>5099.100000</td>\n    </tr>\n    <tr>\n      <th>50%</th>\n      <td>38.000000</td>\n      <td>179.000000</td>\n      <td>2.000000</td>\n      <td>999.000000</td>\n      <td>0.000000</td>\n      <td>1.100000</td>\n      <td>93.749000</td>\n      <td>-41.800000</td>\n      <td>4.857000</td>\n      <td>5191.000000</td>\n    </tr>\n    <tr>\n      <th>75%</th>\n      <td>47.000000</td>\n      <td>318.000000</td>\n      <td>3.000000</td>\n      <td>999.000000</td>\n      <td>0.000000</td>\n      <td>1.400000</td>\n      <td>93.994000</td>\n      <td>-36.400000</td>\n      <td>4.961000</td>\n      <td>5228.100000</td>\n    </tr>\n    <tr>\n      <th>max</th>\n      <td>98.000000</td>\n      <td>4918.000000</td>\n      <td>56.000000</td>\n      <td>999.000000</td>\n      <td>7.000000</td>\n      <td>1.400000</td>\n      <td>94.767000</td>\n      <td>-26.900000</td>\n      <td>5.045000</td>\n      <td>5228.100000</td>\n    </tr>\n  </tbody>\n</table>\n</div>"
          },
          "metadata": {}
        }
      ],
      "execution_count": 10,
      "metadata": {
        "gather": {
          "logged": 1730651769159
        }
      }
    },
    {
      "cell_type": "markdown",
      "source": [
        "### Review the Dataset Result\n",
        "\n",
        "You can peek the result of a TabularDataset at any range using `skip(i)` and `take(j).to_pandas_dataframe()`. Doing so evaluates only `j` records for all the steps in the TabularDataset, which makes it fast even against large datasets.\n",
        "\n",
        "`TabularDataset` objects are composed of a list of transformation steps (optional)."
      ],
      "metadata": {}
    },
    {
      "cell_type": "code",
      "source": [
        "dataset.take(5).to_pandas_dataframe()"
      ],
      "outputs": [
        {
          "output_type": "stream",
          "name": "stdout",
          "text": "{'infer_column_types': 'False', 'activity': 'to_pandas_dataframe'}\n{'infer_column_types': 'False', 'activity': 'to_pandas_dataframe', 'activityApp': 'TabularDataset'}\n"
        },
        {
          "output_type": "execute_result",
          "execution_count": 11,
          "data": {
            "text/plain": "   age          job  marital    education  default housing loan    contact  \\\n0   57   technician  married  high.school       no      no  yes   cellular   \n1   55      unknown  married      unknown  unknown     yes   no  telephone   \n2   33  blue-collar  married     basic.9y       no      no   no   cellular   \n3   36       admin.  married  high.school       no      no   no  telephone   \n4   27    housemaid  married  high.school       no     yes   no   cellular   \n\n  month day_of_week  ...  campaign  pdays  previous     poutcome emp.var.rate  \\\n0   may         mon  ...         1    999         1      failure         -1.8   \n1   may         thu  ...         2    999         0  nonexistent          1.1   \n2   may         fri  ...         1    999         1      failure         -1.8   \n3   jun         fri  ...         4    999         0  nonexistent          1.4   \n4   jul         fri  ...         2    999         0  nonexistent          1.4   \n\n   cons.price.idx  cons.conf.idx  euribor3m  nr.employed   y  \n0          92.893          -46.2      1.299       5099.1  no  \n1          93.994          -36.4      4.860       5191.0  no  \n2          92.893          -46.2      1.313       5099.1  no  \n3          94.465          -41.8      4.967       5228.1  no  \n4          93.918          -42.7      4.963       5228.1  no  \n\n[5 rows x 21 columns]",
            "text/html": "<div>\n<style scoped>\n    .dataframe tbody tr th:only-of-type {\n        vertical-align: middle;\n    }\n\n    .dataframe tbody tr th {\n        vertical-align: top;\n    }\n\n    .dataframe thead th {\n        text-align: right;\n    }\n</style>\n<table border=\"1\" class=\"dataframe\">\n  <thead>\n    <tr style=\"text-align: right;\">\n      <th></th>\n      <th>age</th>\n      <th>job</th>\n      <th>marital</th>\n      <th>education</th>\n      <th>default</th>\n      <th>housing</th>\n      <th>loan</th>\n      <th>contact</th>\n      <th>month</th>\n      <th>day_of_week</th>\n      <th>...</th>\n      <th>campaign</th>\n      <th>pdays</th>\n      <th>previous</th>\n      <th>poutcome</th>\n      <th>emp.var.rate</th>\n      <th>cons.price.idx</th>\n      <th>cons.conf.idx</th>\n      <th>euribor3m</th>\n      <th>nr.employed</th>\n      <th>y</th>\n    </tr>\n  </thead>\n  <tbody>\n    <tr>\n      <th>0</th>\n      <td>57</td>\n      <td>technician</td>\n      <td>married</td>\n      <td>high.school</td>\n      <td>no</td>\n      <td>no</td>\n      <td>yes</td>\n      <td>cellular</td>\n      <td>may</td>\n      <td>mon</td>\n      <td>...</td>\n      <td>1</td>\n      <td>999</td>\n      <td>1</td>\n      <td>failure</td>\n      <td>-1.8</td>\n      <td>92.893</td>\n      <td>-46.2</td>\n      <td>1.299</td>\n      <td>5099.1</td>\n      <td>no</td>\n    </tr>\n    <tr>\n      <th>1</th>\n      <td>55</td>\n      <td>unknown</td>\n      <td>married</td>\n      <td>unknown</td>\n      <td>unknown</td>\n      <td>yes</td>\n      <td>no</td>\n      <td>telephone</td>\n      <td>may</td>\n      <td>thu</td>\n      <td>...</td>\n      <td>2</td>\n      <td>999</td>\n      <td>0</td>\n      <td>nonexistent</td>\n      <td>1.1</td>\n      <td>93.994</td>\n      <td>-36.4</td>\n      <td>4.860</td>\n      <td>5191.0</td>\n      <td>no</td>\n    </tr>\n    <tr>\n      <th>2</th>\n      <td>33</td>\n      <td>blue-collar</td>\n      <td>married</td>\n      <td>basic.9y</td>\n      <td>no</td>\n      <td>no</td>\n      <td>no</td>\n      <td>cellular</td>\n      <td>may</td>\n      <td>fri</td>\n      <td>...</td>\n      <td>1</td>\n      <td>999</td>\n      <td>1</td>\n      <td>failure</td>\n      <td>-1.8</td>\n      <td>92.893</td>\n      <td>-46.2</td>\n      <td>1.313</td>\n      <td>5099.1</td>\n      <td>no</td>\n    </tr>\n    <tr>\n      <th>3</th>\n      <td>36</td>\n      <td>admin.</td>\n      <td>married</td>\n      <td>high.school</td>\n      <td>no</td>\n      <td>no</td>\n      <td>no</td>\n      <td>telephone</td>\n      <td>jun</td>\n      <td>fri</td>\n      <td>...</td>\n      <td>4</td>\n      <td>999</td>\n      <td>0</td>\n      <td>nonexistent</td>\n      <td>1.4</td>\n      <td>94.465</td>\n      <td>-41.8</td>\n      <td>4.967</td>\n      <td>5228.1</td>\n      <td>no</td>\n    </tr>\n    <tr>\n      <th>4</th>\n      <td>27</td>\n      <td>housemaid</td>\n      <td>married</td>\n      <td>high.school</td>\n      <td>no</td>\n      <td>yes</td>\n      <td>no</td>\n      <td>cellular</td>\n      <td>jul</td>\n      <td>fri</td>\n      <td>...</td>\n      <td>2</td>\n      <td>999</td>\n      <td>0</td>\n      <td>nonexistent</td>\n      <td>1.4</td>\n      <td>93.918</td>\n      <td>-42.7</td>\n      <td>4.963</td>\n      <td>5228.1</td>\n      <td>no</td>\n    </tr>\n  </tbody>\n</table>\n<p>5 rows × 21 columns</p>\n</div>"
          },
          "metadata": {}
        }
      ],
      "execution_count": 11,
      "metadata": {
        "gather": {
          "logged": 1730651769685
        }
      }
    },
    {
      "cell_type": "markdown",
      "source": [
        "## Train\n",
        "This creates a general AutoML settings object.\n",
        "**Udacity notes:** These inputs must match what was used when training in the portal. `label_column_name` has to be `y` for example."
      ],
      "metadata": {}
    },
    {
      "cell_type": "code",
      "source": [
        "automl_settings = {\n",
        "    \"experiment_timeout_hours\": 0.25,\n",
        "    \"max_concurrent_iterations\": 5,\n",
        "    \"primary_metric\" : 'AUC_weighted'\n",
        "}\n",
        "automl_config = AutoMLConfig(compute_target=compute_target,\n",
        "                             task = \"classification\",\n",
        "                             training_data=dataset,\n",
        "                             label_column_name=\"y\",   \n",
        "                             path = project_folder,\n",
        "                             enable_early_stopping= True,\n",
        "                             featurization= 'auto',\n",
        "                             debug_log = \"automl_errors.log\",\n",
        "                             **automl_settings\n",
        "                            )"
      ],
      "outputs": [],
      "execution_count": 12,
      "metadata": {
        "gather": {
          "logged": 1730651770067
        }
      }
    },
    {
      "cell_type": "markdown",
      "source": [
        "#### Create Pipeline and AutoMLStep\n",
        "\n",
        "You can define outputs for the AutoMLStep using TrainingOutput."
      ],
      "metadata": {}
    },
    {
      "cell_type": "code",
      "source": [
        "from azureml.pipeline.core import PipelineData, TrainingOutput\n",
        "\n",
        "ds = ws.get_default_datastore()\n",
        "metrics_output_name = 'metrics_output'\n",
        "best_model_output_name = 'best_model_output'\n",
        "\n",
        "metrics_data = PipelineData(name='metrics_data',\n",
        "                           datastore=ds,\n",
        "                           pipeline_output_name=metrics_output_name,\n",
        "                           training_output=TrainingOutput(type='Metrics'))\n",
        "model_data = PipelineData(name='model_data',\n",
        "                           datastore=ds,\n",
        "                           pipeline_output_name=best_model_output_name,\n",
        "                           training_output=TrainingOutput(type='Model'))"
      ],
      "outputs": [],
      "execution_count": 13,
      "metadata": {
        "gather": {
          "logged": 1730651770472
        }
      }
    },
    {
      "cell_type": "markdown",
      "source": [
        "Create an AutoMLStep."
      ],
      "metadata": {}
    },
    {
      "cell_type": "code",
      "source": [
        "automl_step = AutoMLStep(\n",
        "    name='automl_module',\n",
        "    automl_config=automl_config,\n",
        "    outputs=[metrics_data, model_data],\n",
        "    allow_reuse=True)"
      ],
      "outputs": [],
      "execution_count": 14,
      "metadata": {
        "tags": [
          "automlstep-remarks-sample1"
        ],
        "gather": {
          "logged": 1730651770835
        }
      }
    },
    {
      "cell_type": "code",
      "source": [
        "from azureml.pipeline.core import Pipeline\n",
        "pipeline = Pipeline(\n",
        "    description=\"pipeline_with_automlstep\",\n",
        "    workspace=ws,    \n",
        "    steps=[automl_step])"
      ],
      "outputs": [],
      "execution_count": 15,
      "metadata": {
        "tags": [
          "automlstep-remarks-sample2"
        ],
        "gather": {
          "logged": 1730651771214
        }
      }
    },
    {
      "cell_type": "code",
      "source": [
        "pipeline_run = experiment.submit(pipeline)"
      ],
      "outputs": [
        {
          "output_type": "stream",
          "name": "stdout",
          "text": "Created step automl_module [bdfdbc6e][78f388ee-596a-46fa-814e-0b669a6d4e0f], (This step will run and generate new outputs)\nSubmitted PipelineRun c89468b3-bbba-473e-82e9-089372be945f\nLink to Azure Machine Learning Portal: https://ml.azure.com/runs/c89468b3-bbba-473e-82e9-089372be945f?wsid=/subscriptions/61c5c3f0-6dc7-4ed9-a7f3-c704b20e3b30/resourcegroups/aml-quickstarts-269448/workspaces/quick-starts-ws-269448&tid=660b3398-b80e-49d2-bc5b-ac1dc93b5254\n"
        }
      ],
      "execution_count": 16,
      "metadata": {
        "gather": {
          "logged": 1730651772100
        }
      }
    },
    {
      "cell_type": "code",
      "source": [
        "pip install --upgrade numba\n"
      ],
      "outputs": [
        {
          "output_type": "stream",
          "name": "stdout",
          "text": "Requirement already satisfied: numba in /anaconda/envs/jupyter_env/lib/python3.10/site-packages (0.56.4)\nCollecting numba\n  Using cached numba-0.60.0-cp310-cp310-manylinux2014_x86_64.manylinux_2_17_x86_64.whl.metadata (2.7 kB)\nCollecting llvmlite<0.44,>=0.43.0dev0 (from numba)\n  Using cached llvmlite-0.43.0-cp310-cp310-manylinux_2_17_x86_64.manylinux2014_x86_64.whl.metadata (4.8 kB)\nRequirement already satisfied: numpy<2.1,>=1.22 in /anaconda/envs/jupyter_env/lib/python3.10/site-packages (from numba) (1.23.5)\nUsing cached numba-0.60.0-cp310-cp310-manylinux2014_x86_64.manylinux_2_17_x86_64.whl (3.7 MB)\nUsing cached llvmlite-0.43.0-cp310-cp310-manylinux_2_17_x86_64.manylinux2014_x86_64.whl (43.9 MB)\nInstalling collected packages: llvmlite, numba\n  Attempting uninstall: llvmlite\n    Found existing installation: llvmlite 0.39.1\n    Uninstalling llvmlite-0.39.1:\n      Successfully uninstalled llvmlite-0.39.1\n  Attempting uninstall: numba\n    Found existing installation: numba 0.56.4\n    Uninstalling numba-0.56.4:\n      Successfully uninstalled numba-0.56.4\n\u001b[31mERROR: pip's dependency resolver does not currently take into account all the packages that are installed. This behaviour is the source of the following dependency conflicts.\nazureml-interpret 1.58.0 requires numba<=0.56.4; python_version < \"3.11\", but you have numba 0.60.0 which is incompatible.\nresponsibleai 0.36.0 requires numba<=0.58.1, but you have numba 0.60.0 which is incompatible.\u001b[0m\u001b[31m\n\u001b[0mSuccessfully installed llvmlite-0.43.0 numba-0.60.0\nNote: you may need to restart the kernel to use updated packages.\n"
        }
      ],
      "execution_count": 17,
      "metadata": {
        "jupyter": {
          "source_hidden": false,
          "outputs_hidden": false
        },
        "nteract": {
          "transient": {
            "deleting": false
          }
        },
        "gather": {
          "logged": 1730651779197
        }
      }
    },
    {
      "cell_type": "code",
      "source": [
        "from azureml.widgets import RunDetails\n",
        "RunDetails(pipeline_run).show()"
      ],
      "outputs": [
        {
          "output_type": "display_data",
          "data": {
            "text/plain": "_PipelineWidget(widget_settings={'childWidgetDisplay': 'popup', 'send_telemetry': False, 'log_level': 'INFO', …",
            "application/vnd.jupyter.widget-view+json": {
              "version_major": 2,
              "version_minor": 0,
              "model_id": "acb73a518d37480dbdff64c928d68ef6"
            }
          },
          "metadata": {}
        },
        {
          "output_type": "display_data",
          "data": {
            "application/aml.mini.widget.v1": "\"NotImplementedError('_DatasetClient.get is no longer supported. deprecated.')\""
          },
          "metadata": {}
        },
        {
          "output_type": "stream",
          "name": "stderr",
          "text": "ERROR:azureml.data._dataset_client:[NOT_SUPPORTED_API_USE_ATTEMPT] The [_DatasetClient.get] API has been deprecated and is no longer supported\nERROR:azureml.data._dataset_client:[NOT_SUPPORTED_API_USE_ATTEMPT] The [_DatasetClient.get] API has been deprecated and is no longer supported\nERROR:azureml.data._dataset_client:[NOT_SUPPORTED_API_USE_ATTEMPT] The [_DatasetClient.get] API has been deprecated and is no longer supported\nERROR:azureml.data._dataset_client:[NOT_SUPPORTED_API_USE_ATTEMPT] The [_DatasetClient.get] API has been deprecated and is no longer supported\n"
        }
      ],
      "execution_count": 18,
      "metadata": {
        "gather": {
          "logged": 1730651781422
        }
      }
    },
    {
      "cell_type": "code",
      "source": [
        "pipeline_run.wait_for_completion()"
      ],
      "outputs": [
        {
          "output_type": "stream",
          "name": "stdout",
          "text": "PipelineRunId: c89468b3-bbba-473e-82e9-089372be945f\nLink to Azure Machine Learning Portal: https://ml.azure.com/runs/c89468b3-bbba-473e-82e9-089372be945f?wsid=/subscriptions/61c5c3f0-6dc7-4ed9-a7f3-c704b20e3b30/resourcegroups/aml-quickstarts-269448/workspaces/quick-starts-ws-269448&tid=660b3398-b80e-49d2-bc5b-ac1dc93b5254\nPipelineRun Status: Running\n\n\nStepRunId: fd85ec48-97cb-4b89-9208-d47b8eaf801c\nLink to Azure Machine Learning Portal: https://ml.azure.com/runs/fd85ec48-97cb-4b89-9208-d47b8eaf801c?wsid=/subscriptions/61c5c3f0-6dc7-4ed9-a7f3-c704b20e3b30/resourcegroups/aml-quickstarts-269448/workspaces/quick-starts-ws-269448&tid=660b3398-b80e-49d2-bc5b-ac1dc93b5254\nStepRun( automl_module ) Status: NotStarted\nStepRun( automl_module ) Status: Running\n"
        }
      ],
      "execution_count": 19,
      "metadata": {}
    },
    {
      "cell_type": "markdown",
      "source": [
        "## Examine Results\n",
        "\n",
        "### Retrieve the metrics of all child runs\n",
        "Outputs of above run can be used as inputs of other steps in pipeline. In this tutorial, we will examine the outputs by retrieve output data and running some tests."
      ],
      "metadata": {}
    },
    {
      "cell_type": "code",
      "source": [
        "metrics_output = pipeline_run.get_pipeline_output(metrics_output_name)\n",
        "num_file_downloaded = metrics_output.download('.', show_progress=True)"
      ],
      "outputs": [],
      "execution_count": null,
      "metadata": {}
    },
    {
      "cell_type": "code",
      "source": [
        "import json\n",
        "with open(metrics_output._path_on_datastore) as f:\n",
        "    metrics_output_result = f.read()\n",
        "    \n",
        "deserialized_metrics_output = json.loads(metrics_output_result)\n",
        "df = pd.DataFrame(deserialized_metrics_output)\n",
        "df"
      ],
      "outputs": [],
      "execution_count": null,
      "metadata": {}
    },
    {
      "cell_type": "markdown",
      "source": [
        "### Retrieve the Best Model"
      ],
      "metadata": {}
    },
    {
      "cell_type": "code",
      "source": [
        "# Retrieve best model from Pipeline Run\n",
        "best_model_output = pipeline_run.get_pipeline_output(best_model_output_name)\n",
        "num_file_downloaded = best_model_output.download('.', show_progress=True)"
      ],
      "outputs": [],
      "execution_count": null,
      "metadata": {}
    },
    {
      "cell_type": "code",
      "source": [
        "import pickle\n",
        "\n",
        "with open(best_model_output._path_on_datastore, \"rb\" ) as f:\n",
        "    best_model = pickle.load(f)\n",
        "best_model"
      ],
      "outputs": [],
      "execution_count": null,
      "metadata": {}
    },
    {
      "cell_type": "code",
      "source": [
        "best_model.steps"
      ],
      "outputs": [],
      "execution_count": null,
      "metadata": {}
    },
    {
      "cell_type": "markdown",
      "source": [
        "### Test the Model\n",
        "#### Load Test Data\n",
        "For the test data, it should have the same preparation step as the train data. Otherwise it might get failed at the preprocessing step."
      ],
      "metadata": {}
    },
    {
      "cell_type": "code",
      "source": [
        "dataset_test = Dataset.Tabular.from_delimited_files(path='https://automlsamplenotebookdata.blob.core.windows.net/automl-sample-notebook-data/bankmarketing_train.csv')\n",
        "df_test = dataset_test.to_pandas_dataframe()\n",
        "df_test = df_test[pd.notnull(df_test['y'])]\n",
        "\n",
        "y_test = df_test['y']\n",
        "X_test = df_test.drop(['y'], axis=1)"
      ],
      "outputs": [],
      "execution_count": null,
      "metadata": {}
    },
    {
      "cell_type": "markdown",
      "source": [
        "#### Testing Our Best Fitted Model\n",
        "\n",
        "We will use confusion matrix to see how our model works."
      ],
      "metadata": {}
    },
    {
      "cell_type": "code",
      "source": [
        "from sklearn.metrics import confusion_matrix\n",
        "ypred = best_model.predict(X_test)\n",
        "cm = confusion_matrix(y_test, ypred)"
      ],
      "outputs": [],
      "execution_count": null,
      "metadata": {}
    },
    {
      "cell_type": "code",
      "source": [
        "# Visualize the confusion matrix\n",
        "pd.DataFrame(cm).style.background_gradient(cmap='Blues', low=0, high=0.9)"
      ],
      "outputs": [],
      "execution_count": null,
      "metadata": {}
    },
    {
      "cell_type": "markdown",
      "source": [
        "## Publish and run from REST endpoint\n",
        "\n",
        "Run the following code to publish the pipeline to your workspace. In your workspace in the portal, you can see metadata for the pipeline including run history and durations. You can also run the pipeline manually from the portal.\n",
        "\n",
        "Additionally, publishing the pipeline enables a REST endpoint to rerun the pipeline from any HTTP library on any platform.\n"
      ],
      "metadata": {}
    },
    {
      "cell_type": "code",
      "source": [
        "published_pipeline = pipeline_run.publish_pipeline(\n",
        "    name=\"Bankmarketing Train\", description=\"Training bankmarketing pipeline\", version=\"1.0\")\n",
        "\n",
        "published_pipeline\n"
      ],
      "outputs": [],
      "execution_count": null,
      "metadata": {}
    },
    {
      "cell_type": "markdown",
      "source": [
        "Authenticate once again, to retrieve the `auth_header` so that the endpoint can be used"
      ],
      "metadata": {}
    },
    {
      "cell_type": "code",
      "source": [
        "from azureml.core.authentication import InteractiveLoginAuthentication\n",
        "\n",
        "interactive_auth = InteractiveLoginAuthentication()\n",
        "auth_header = interactive_auth.get_authentication_header()\n",
        "\n"
      ],
      "outputs": [],
      "execution_count": null,
      "metadata": {}
    },
    {
      "cell_type": "markdown",
      "source": [
        "Get the REST url from the endpoint property of the published pipeline object. You can also find the REST url in your workspace in the portal. Build an HTTP POST request to the endpoint, specifying your authentication header. Additionally, add a JSON payload object with the experiment name and the batch size parameter. As a reminder, the process_count_per_node is passed through to ParallelRunStep because you defined it is defined as a PipelineParameter object in the step configuration.\n",
        "\n",
        "Make the request to trigger the run. Access the Id key from the response dict to get the value of the run id.\n"
      ],
      "metadata": {}
    },
    {
      "cell_type": "code",
      "source": [
        "import requests\n",
        "\n",
        "rest_endpoint = published_pipeline.endpoint\n",
        "response = requests.post(rest_endpoint, \n",
        "                         headers=auth_header, \n",
        "                         json={\"ExperimentName\": \"pipeline-rest-endpoint\"}\n",
        "                        )"
      ],
      "outputs": [],
      "execution_count": null,
      "metadata": {}
    },
    {
      "cell_type": "code",
      "source": [
        "try:\n",
        "    response.raise_for_status()\n",
        "except Exception:    \n",
        "    raise Exception(\"Received bad response from the endpoint: {}\\n\"\n",
        "                    \"Response Code: {}\\n\"\n",
        "                    \"Headers: {}\\n\"\n",
        "                    \"Content: {}\".format(rest_endpoint, response.status_code, response.headers, response.content))\n",
        "\n",
        "run_id = response.json().get('Id')\n",
        "print('Submitted pipeline run: ', run_id)"
      ],
      "outputs": [],
      "execution_count": null,
      "metadata": {}
    },
    {
      "cell_type": "markdown",
      "source": [
        "Use the run id to monitor the status of the new run. This will take another 10-15 min to run and will look similar to the previous pipeline run, so if you don't need to see another pipeline run, you can skip watching the full output."
      ],
      "metadata": {}
    },
    {
      "cell_type": "code",
      "source": [
        "from azureml.pipeline.core.run import PipelineRun\n",
        "from azureml.widgets import RunDetails\n",
        "\n",
        "published_pipeline_run = PipelineRun(ws.experiments[\"pipeline-rest-endpoint\"], run_id)\n",
        "RunDetails(published_pipeline_run).show()"
      ],
      "outputs": [],
      "execution_count": null,
      "metadata": {}
    },
    {
      "cell_type": "code",
      "source": [],
      "outputs": [],
      "execution_count": null,
      "metadata": {}
    }
  ],
  "metadata": {
    "order_index": 11,
    "exclude_from_index": false,
    "task": "Demonstrates the use of AutoMLStep",
    "deployment": [
      "None"
    ],
    "authors": [
      {
        "name": "sanpil"
      }
    ],
    "star_tag": [
      "featured"
    ],
    "microsoft": {
      "ms_spell_check": {
        "ms_spell_check_language": "en"
      }
    },
    "kernel_info": {
      "name": "python3"
    },
    "language_info": {
      "name": "python",
      "version": "3.10.11",
      "mimetype": "text/x-python",
      "codemirror_mode": {
        "name": "ipython",
        "version": 3
      },
      "pygments_lexer": "ipython3",
      "nbconvert_exporter": "python",
      "file_extension": ".py"
    },
    "compute": [
      "AML Compute"
    ],
    "kernelspec": {
      "name": "python3",
      "language": "python",
      "display_name": "Python 3 (ipykernel)"
    },
    "tags": [
      "None"
    ],
    "datasets": [
      "Custom"
    ],
    "categories": [
      "how-to-use-azureml",
      "machine-learning-pipelines",
      "intro-to-pipelines"
    ],
    "category": "tutorial",
    "framework": [
      "Automated Machine Learning"
    ],
    "friendly_name": "How to use AutoMLStep with AML Pipelines",
    "nteract": {
      "version": "nteract-front-end@1.0.0"
    }
  },
  "nbformat": 4,
  "nbformat_minor": 2
}